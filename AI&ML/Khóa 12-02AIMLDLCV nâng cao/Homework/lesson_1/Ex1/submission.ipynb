{
 "cells": [
  {
   "cell_type": "code",
   "execution_count": 4,
   "metadata": {},
   "outputs": [
    {
     "name": "stdout",
     "output_type": "stream",
     "text": [
      "Positives: 5, Negatives: 7\n"
     ]
    }
   ],
   "source": [
    "# Ex1: Write a program to count positive and negative numbers in a list\n",
    "data1 = [-10, -21, -4, -45, -66, 93, 11, -4, -6, 12, 11, 4]\n",
    "\n",
    "\n",
    "def count_positives_negatives(data):\n",
    "    positives = len([num for num in data if num > 0])\n",
    "    negatives = len([num for num in data if num < 0])\n",
    "    return positives, negatives\n",
    "\n",
    "\n",
    "positives, negatives = count_positives_negatives(data1)\n",
    "print(f\"Positives: {positives}, Negatives: {negatives}\")"
   ]
  },
  {
   "cell_type": "code",
   "execution_count": 5,
   "metadata": {},
   "outputs": [
    {
     "name": "stdout",
     "output_type": "stream",
     "text": [
      "[4, 4, 3, 3, 4, 3, 4, 3]\n"
     ]
    }
   ],
   "source": [
    "# Ex2: Given a list, extract all elements whose frequency is greater than k.\n",
    "data2 = [4, 6, 4, 3, 3, 4, 3, 4, 3, 8]\n",
    "k = 3\n",
    "\n",
    "def extract_elements(data, k):\n",
    "    freq = {}\n",
    "    for num in data:\n",
    "        freq[num] = freq.get(num, 0) + 1\n",
    "    return [num for num in data if freq[num] > k]\n",
    "\n",
    "result = extract_elements(data2, k)\n",
    "print(result)"
   ]
  },
  {
   "cell_type": "code",
   "execution_count": 6,
   "metadata": {},
   "outputs": [
    {
     "name": "stdout",
     "output_type": "stream",
     "text": [
      "[5, 6, 7, 7, 9, 11, 11, 10]\n"
     ]
    }
   ],
   "source": [
    "# Ex3: find the strongest neighbour. Given an array of N positive integers.\n",
    "# The task is to find the maximum for every adjacent pair in the array.\n",
    "data3 = [4, 5, 6, 7, 3, 9, 11, 2, 10]\n",
    "\n",
    "def find_strongest_neighbour(data):\n",
    "    return [max(data[i], data[i+1]) for i in range(len(data) - 1)]\n",
    "\n",
    "print(find_strongest_neighbour(data3))"
   ]
  },
  {
   "cell_type": "code",
   "execution_count": 7,
   "metadata": {},
   "outputs": [
    {
     "name": "stdout",
     "output_type": "stream",
     "text": [
      "1 2 3\n",
      "1 3 2\n",
      "2 1 3\n",
      "2 3 1\n",
      "3 1 2\n",
      "3 2 1\n"
     ]
    }
   ],
   "source": [
    "# Ex4: print all Possible Combinations from the three Digits\n",
    "data4 = [1, 2, 3]\n",
    "\n",
    "def print_combinations(data):\n",
    "    for i in range(len(data)):\n",
    "        for j in range(len(data)):\n",
    "            for k in range(len(data)):\n",
    "                if i != j and j != k and i != k:\n",
    "                    print(data[i], data[j], data[k])\n",
    "\n",
    "print_combinations(data4)"
   ]
  },
  {
   "cell_type": "code",
   "execution_count": 8,
   "metadata": {},
   "outputs": [
    {
     "name": "stdout",
     "output_type": "stream",
     "text": [
      "[[4, 3, 5, 1, 3], [1, 2, 3, 9, 3, 5, 7], [3, 7, 4, 8]]\n"
     ]
    }
   ],
   "source": [
    "# Ex5: Given two matrices (2 nested lists), the task is to write a Python program\n",
    "# to add elements to each row from initial matrix.\n",
    "# For example: Input : test_list1 = [[4, 3, 5,], [1, 2, 3], [3, 7, 4]], test_list2 = [[1], [9], [8]]\n",
    "# Output : [[4, 3, 5, 1], [1, 2, 3, 9], [3, 7, 4, 8]]\n",
    "data5_list1 = [[4, 3, 5, ], [1, 2, 3], [3, 7, 4]]\n",
    "data5_list2 = [[1, 3], [9, 3, 5, 7], [8]]\n",
    "\n",
    "def add_elements_to_rows(list1, list2):\n",
    "    return [row1 + row2 for row1, row2 in zip(list1, list2)]\n",
    "\n",
    "print(add_elements_to_rows(data5_list1, data5_list2))"
   ]
  },
  {
   "cell_type": "code",
   "execution_count": 9,
   "metadata": {},
   "outputs": [
    {
     "name": "stdout",
     "output_type": "stream",
     "text": [
      "2002, 2009, 2016, 2023, 2037, 2044, 2051, 2058, 2072, 2079, 2086, 2093, 2107, 2114, 2121, 2128, 2142, 2149, 2156, 2163, 2177, 2184, 2191, 2198, 2212, 2219, 2226, 2233, 2247, 2254, 2261, 2268, 2282, 2289, 2296, 2303, 2317, 2324, 2331, 2338, 2352, 2359, 2366, 2373, 2387, 2394, 2401, 2408, 2422, 2429, 2436, 2443, 2457, 2464, 2471, 2478, 2492, 2499, 2506, 2513, 2527, 2534, 2541, 2548, 2562, 2569, 2576, 2583, 2597, 2604, 2611, 2618, 2632, 2639, 2646, 2653, 2667, 2674, 2681, 2688, 2702, 2709, 2716, 2723, 2737, 2744, 2751, 2758, 2772, 2779, 2786, 2793, 2807, 2814, 2821, 2828, 2842, 2849, 2856, 2863, 2877, 2884, 2891, 2898, 2912, 2919, 2926, 2933, 2947, 2954, 2961, 2968, 2982, 2989, 2996, 3003, 3017, 3024, 3031, 3038, 3052, 3059, 3066, 3073, 3087, 3094, 3101, 3108, 3122, 3129, 3136, 3143, 3157, 3164, 3171, 3178, 3192, 3199\n"
     ]
    }
   ],
   "source": [
    "# Ex6:  Write a program which will find all such numbers which are divisible by 7\n",
    "# but are not a multiple of 5, between 2000 and 3200 (both included).\n",
    "# The numbers obtained should be printed in a comma-separated sequence on a single line.\n",
    "\n",
    "def find_numbers():\n",
    "    return [str(num) for num in range(2000, 3201) if num % 7 == 0 and num % 5 != 0]\n",
    "\n",
    "print(\", \".join(find_numbers()))"
   ]
  },
  {
   "cell_type": "code",
   "execution_count": 10,
   "metadata": {},
   "outputs": [
    {
     "name": "stdout",
     "output_type": "stream",
     "text": [
      "2000, 2002, 2004, 2006, 2008, 2020, 2022, 2024, 2026, 2028, 2040, 2042, 2044, 2046, 2048, 2060, 2062, 2064, 2066, 2068, 2080, 2082, 2084, 2086, 2088, 2200, 2202, 2204, 2206, 2208, 2220, 2222, 2224, 2226, 2228, 2240, 2242, 2244, 2246, 2248, 2260, 2262, 2264, 2266, 2268, 2280, 2282, 2284, 2286, 2288, 2400, 2402, 2404, 2406, 2408, 2420, 2422, 2424, 2426, 2428, 2440, 2442, 2444, 2446, 2448, 2460, 2462, 2464, 2466, 2468, 2480, 2482, 2484, 2486, 2488, 2600, 2602, 2604, 2606, 2608, 2620, 2622, 2624, 2626, 2628, 2640, 2642, 2644, 2646, 2648, 2660, 2662, 2664, 2666, 2668, 2680, 2682, 2684, 2686, 2688, 2800, 2802, 2804, 2806, 2808, 2820, 2822, 2824, 2826, 2828, 2840, 2842, 2844, 2846, 2848, 2860, 2862, 2864, 2866, 2868, 2880, 2882, 2884, 2886, 2888\n"
     ]
    }
   ],
   "source": [
    "# Ex7: Write a program, which will find all such numbers between 1000 and 3000 (both included) such that each digit of the number is an even number.\n",
    "# The numbers obtained should be printed in a comma-separated sequence on a single line.\n",
    "\n",
    "def find_numbers():\n",
    "    return [str(num) for num in range(1000, 3001) if all(int(digit) % 2 == 0 for digit in str(num))]\n",
    "\n",
    "print(\", \".join(find_numbers()))"
   ]
  },
  {
   "cell_type": "code",
   "execution_count": 20,
   "metadata": {},
   "outputs": [
    {
     "name": "stdout",
     "output_type": "stream",
     "text": [
      "Shortest word chain:\n",
      "pen -> enigmata -> tampa -> paper\n"
     ]
    }
   ],
   "source": [
    "# Ex8: Let user type 2 words in English as input. Print out the output\n",
    "# which is the shortest chain according to the following rules:\n",
    "# - Each word in the chain has at least 3 letters\n",
    "# - The 2 input words from user will be used as the first and the last words of the chain\n",
    "# - 2 last letters of 1 word will be the same as 2 first letters of the next word in the chain\n",
    "# - All the words are from the file wordsEn.txt\n",
    "# - If there are multiple shortest chains, return any of them is sufficient\n",
    "\n",
    "def find_shortest_chain(word1, word2):\n",
    "    \"\"\"\n",
    "    Finds the shortest word chain connecting two given words.\n",
    "\n",
    "    Args:\n",
    "        word1: The first word in the chain.\n",
    "        word2: The last word in the chain.\n",
    "\n",
    "    Returns:\n",
    "        A list representing the shortest word chain, or None if no chain is found.\n",
    "    \"\"\"\n",
    "\n",
    "    # Read the word list from the file\n",
    "    with open(\"wordsEn.txt\", \"r\") as f:\n",
    "        word_list = [word.strip() for word in f]\n",
    "\n",
    "    # Check if the input words are in the word list\n",
    "    if word1 not in word_list or word2 not in word_list:\n",
    "        return None\n",
    "\n",
    "    # Initialize a dictionary to store the shortest path to each word\n",
    "    shortest_paths = {word1: [word1]}\n",
    "\n",
    "    # Iterate through the word list to find the shortest path\n",
    "    while True:\n",
    "        # Find a word that can be appended to the chain\n",
    "        new_paths = {}\n",
    "        for word in shortest_paths:\n",
    "            for next_word in word_list:\n",
    "                if len(word) >= 3 and len(next_word) >= 3 and word[-2:] == next_word[:2] and next_word not in shortest_paths:\n",
    "                    new_paths[next_word] = shortest_paths[word] + [next_word]\n",
    "\n",
    "        # Update the shortest paths\n",
    "        shortest_paths.update(new_paths)\n",
    "\n",
    "        # Check if the target word is found\n",
    "        if word2 in shortest_paths:\n",
    "            return shortest_paths[word2]\n",
    "\n",
    "        # If no new paths were found, no chain exists\n",
    "        if len(new_paths) == 0:\n",
    "            return None\n",
    "\n",
    "# Get the user input\n",
    "word1 = input(\"Enter the first word: \")\n",
    "word2 = input(\"Enter the last word: \")\n",
    "\n",
    "# Find the shortest chain\n",
    "shortest_chain = find_shortest_chain(word1, word2)\n",
    "\n",
    "# Print the results\n",
    "if shortest_chain is None:\n",
    "    print(\"No chain found between the two words.\")\n",
    "else:\n",
    "    print(\"Shortest word chain:\")\n",
    "    print(\" -> \".join(shortest_chain))"
   ]
  }
 ],
 "metadata": {
  "kernelspec": {
   "display_name": "Python 3",
   "language": "python",
   "name": "python3"
  },
  "language_info": {
   "codemirror_mode": {
    "name": "ipython",
    "version": 3
   },
   "file_extension": ".py",
   "mimetype": "text/x-python",
   "name": "python",
   "nbconvert_exporter": "python",
   "pygments_lexer": "ipython3",
   "version": "3.11.9"
  }
 },
 "nbformat": 4,
 "nbformat_minor": 2
}
