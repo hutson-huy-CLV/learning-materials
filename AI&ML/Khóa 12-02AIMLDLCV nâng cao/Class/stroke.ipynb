{
 "cells": [
  {
   "cell_type": "code",
   "execution_count": 5,
   "metadata": {},
   "outputs": [
    {
     "name": "stderr",
     "output_type": "stream",
     "text": [
      "d:\\Hutson\\learning-materials\\AI&ML\\Khóa 12-02AIMLDLCV nâng cao\\Class\\sklearn-env\\Lib\\site-packages\\tqdm\\auto.py:21: TqdmWarning: IProgress not found. Please update jupyter and ipywidgets. See https://ipywidgets.readthedocs.io/en/stable/user_install.html\n",
      "  from .autonotebook import tqdm as notebook_tqdm\n"
     ]
    }
   ],
   "source": [
    "import pandas as pd\n",
    "import numpy as np\n",
    "\n",
    "import ydata_profiling  as ProfileReport\n"
   ]
  },
  {
   "cell_type": "code",
   "execution_count": 7,
   "metadata": {},
   "outputs": [
    {
     "name": "stderr",
     "output_type": "stream",
     "text": [
      "Summarize dataset:  72%|███████▏  | 13/18 [00:00<00:00,  9.00it/s, Calculate auto correlation]          d:\\Hutson\\learning-materials\\AI&ML\\Khóa 12-02AIMLDLCV nâng cao\\Class\\sklearn-env\\Lib\\site-packages\\ydata_profiling\\model\\correlations.py:66: UserWarning: There was an attempt to calculate the auto correlation, but this failed.\n",
      "To hide this warning, disable the calculation\n",
      "(using `df.profile_report(correlations={\"auto\": {\"calculate\": False}})`\n",
      "If this is problematic for your use case, please report this as an issue:\n",
      "https://github.com/ydataai/ydata-profiling/issues\n",
      "(include the error message: 'could not convert string to float: 'Male'')\n",
      "  warnings.warn(\n",
      "Summarize dataset: 100%|██████████| 36/36 [00:01<00:00, 18.79it/s, Completed]                                   \n",
      "Generate report structure: 100%|██████████| 1/1 [00:02<00:00,  2.16s/it]\n",
      "Render HTML: 100%|██████████| 1/1 [00:01<00:00,  1.05s/it]\n",
      "Export report to file: 100%|██████████| 1/1 [00:00<00:00, 333.33it/s]\n"
     ]
    }
   ],
   "source": [
    "df = pd.read_csv('Datasets\\stroke_classification.csv')\n",
    "\n",
    "profile = ProfileReport.ProfileReport(df, title='Pandas Profiling Report', explorative=True)\n",
    "profile.to_file(\"stroke.html\")"
   ]
  }
 ],
 "metadata": {
  "kernelspec": {
   "display_name": "sklearn-env",
   "language": "python",
   "name": "python3"
  },
  "language_info": {
   "codemirror_mode": {
    "name": "ipython",
    "version": 3
   },
   "file_extension": ".py",
   "mimetype": "text/x-python",
   "name": "python",
   "nbconvert_exporter": "python",
   "pygments_lexer": "ipython3",
   "version": "3.11.5"
  }
 },
 "nbformat": 4,
 "nbformat_minor": 2
}
