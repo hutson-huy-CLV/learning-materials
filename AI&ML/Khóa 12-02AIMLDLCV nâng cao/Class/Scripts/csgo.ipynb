{
 "cells": [
  {
   "cell_type": "code",
   "execution_count": 1,
   "metadata": {},
   "outputs": [],
   "source": [
    "import pandas as pd\n",
    "import numpy as np\n",
    "import matplotlib.pyplot as plt\n",
    "import seaborn as sns\n",
    "import plotly.express as px\n",
    "\n",
    "from sklearn.model_selection import train_test_split\n",
    "from sklearn.preprocessing import StandardScaler\n",
    "from sklearn.linear_model import LogisticRegression\n",
    "from sklearn.metrics import classification_report, confusion_matrix\n",
    "from sklearn.model_selection import GridSearchCV\n",
    "\n",
    "from sklearn.svm import SVC\n",
    "from sklearn.ensemble import RandomForestClassifier\n",
    "\n",
    "\n",
    "# import ydata_profiling  as ProfileReport\n"
   ]
  },
  {
   "cell_type": "code",
   "execution_count": 2,
   "metadata": {},
   "outputs": [],
   "source": [
    "df = pd.read_csv('Datasets\\csgo.csv')\n",
    "# profile = ProfileReport.ProfileReport(df, title='Pandas Profiling Report', explorative=True)\n",
    "# profile.to_file(\"csgo.html\")"
   ]
  },
  {
   "cell_type": "code",
   "execution_count": 3,
   "metadata": {},
   "outputs": [],
   "source": [
    "### list of un-used columns\n",
    "unused_columns = ['date','month', 'year', 'wait_time_s']\n",
    "\n",
    "### drop un-used columns\n",
    "df = df.drop(columns=unused_columns)"
   ]
  },
  {
   "cell_type": "code",
   "execution_count": 4,
   "metadata": {},
   "outputs": [
    {
     "name": "stdout",
     "output_type": "stream",
     "text": [
      "map ['Mirage' 'Dust II' 'Cache' 'Overpass' 'Cobblestone' 'Inferno' 'Austria'\n",
      " 'Canals' 'Nuke' 'Italy']\n",
      "result ['Win' 'Lost' 'Tie']\n"
     ]
    }
   ],
   "source": [
    "## get categorical columns\n",
    "categorical_columns = df.select_dtypes(include=['object']).columns\n",
    "\n",
    "## unique values in categorical columns\n",
    "for col in ['map', 'result']:\n",
    "    print(col, df[col].unique())"
   ]
  },
  {
   "cell_type": "code",
   "execution_count": 5,
   "metadata": {},
   "outputs": [],
   "source": [
    "# df['result'] = df['result'].map({'Win': 1, 'Tie': 0, 'Lost': -1})\n",
    "df = pd.get_dummies(df, columns=['map'])\n"
   ]
  },
  {
   "cell_type": "code",
   "execution_count": 6,
   "metadata": {},
   "outputs": [],
   "source": [
    "# plt.figure(figsize=(15,15))\n",
    "# sns.heatmap(df.corr(), annot=True, fmt=\".2f\")"
   ]
  },
  {
   "cell_type": "code",
   "execution_count": 7,
   "metadata": {},
   "outputs": [
    {
     "name": "stdout",
     "output_type": "stream",
     "text": [
      "<class 'pandas.core.frame.DataFrame'>\n",
      "RangeIndex: 1133 entries, 0 to 1132\n",
      "Data columns (total 22 columns):\n",
      " #   Column           Non-Null Count  Dtype  \n",
      "---  ------           --------------  -----  \n",
      " 0   day              1133 non-null   float64\n",
      " 1   match_time_s     1133 non-null   float64\n",
      " 2   team_a_rounds    1133 non-null   float64\n",
      " 3   team_b_rounds    1133 non-null   float64\n",
      " 4   ping             1133 non-null   float64\n",
      " 5   kills            1133 non-null   float64\n",
      " 6   assists          1133 non-null   float64\n",
      " 7   deaths           1133 non-null   float64\n",
      " 8   mvps             1133 non-null   float64\n",
      " 9   hs_percent       1133 non-null   float64\n",
      " 10  points           1133 non-null   float64\n",
      " 11  result           1133 non-null   object \n",
      " 12  map_Austria      1133 non-null   bool   \n",
      " 13  map_Cache        1133 non-null   bool   \n",
      " 14  map_Canals       1133 non-null   bool   \n",
      " 15  map_Cobblestone  1133 non-null   bool   \n",
      " 16  map_Dust II      1133 non-null   bool   \n",
      " 17  map_Inferno      1133 non-null   bool   \n",
      " 18  map_Italy        1133 non-null   bool   \n",
      " 19  map_Mirage       1133 non-null   bool   \n",
      " 20  map_Nuke         1133 non-null   bool   \n",
      " 21  map_Overpass     1133 non-null   bool   \n",
      "dtypes: bool(10), float64(11), object(1)\n",
      "memory usage: 117.4+ KB\n"
     ]
    }
   ],
   "source": [
    "## Train data\n",
    "\n",
    "df.info()"
   ]
  },
  {
   "cell_type": "code",
   "execution_count": 8,
   "metadata": {},
   "outputs": [],
   "source": [
    "target = 'result'\n",
    "X = df.drop(columns=[target])\n",
    "y = df[target]"
   ]
  },
  {
   "cell_type": "code",
   "execution_count": 9,
   "metadata": {},
   "outputs": [],
   "source": [
    "x_train, x_test, y_train, y_test = train_test_split(X, y, test_size=0.2, random_state=42)"
   ]
  },
  {
   "cell_type": "code",
   "execution_count": 10,
   "metadata": {},
   "outputs": [
    {
     "name": "stdout",
     "output_type": "stream",
     "text": [
      "(906, 21) (227, 21) (906,) (227,)\n"
     ]
    }
   ],
   "source": [
    "print(x_train.shape, x_test.shape, y_train.shape, y_test.shape)"
   ]
  },
  {
   "cell_type": "code",
   "execution_count": 11,
   "metadata": {},
   "outputs": [],
   "source": [
    "scaler = StandardScaler()\n",
    "x_train = scaler.fit_transform(x_train)\n",
    "x_test = scaler.transform(x_test)"
   ]
  },
  {
   "cell_type": "markdown",
   "metadata": {},
   "source": [
    "# Choose model"
   ]
  },
  {
   "cell_type": "markdown",
   "metadata": {},
   "source": [
    "## Logistic Regression"
   ]
  },
  {
   "cell_type": "code",
   "execution_count": 12,
   "metadata": {},
   "outputs": [],
   "source": [
    "# params = {\n",
    "#     \"penalty\": ['l1', 'l2'],\n",
    "#     \"C\": [0.1, 0.5, 1, 5, 10],\n",
    "#     \"solver\": ['liblinear'],\n",
    "#     \"max_iter\": [100, 200, 300],\n",
    "#     \"class_weight\": ['balanced', None],\n",
    "#     \"random_state\": [100]\n",
    "# }\n",
    "# model = GridSearchCV(LogisticRegression(random_state=100),param_grid=params, scoring = 'accuracy', cv=6, verbose=2, n_jobs= -1)\n",
    "# model.fit(x_train, y_train)\n",
    "\n",
    "# y_pred = model.predict(x_test)\n",
    "\n",
    "# print(classification_report(y_test, y_pred))"
   ]
  },
  {
   "cell_type": "markdown",
   "metadata": {},
   "source": [
    "## SVM"
   ]
  },
  {
   "cell_type": "code",
   "execution_count": 13,
   "metadata": {},
   "outputs": [],
   "source": [
    "# model = SVC()\n",
    "# model.fit(x_train, y_train)\n",
    "# y_pred = model.predict(x_test)\n",
    "\n",
    "# print(classification_report(y_test, y_pred))"
   ]
  },
  {
   "cell_type": "markdown",
   "metadata": {},
   "source": [
    "## Random Forest"
   ]
  },
  {
   "cell_type": "code",
   "execution_count": 14,
   "metadata": {},
   "outputs": [
    {
     "name": "stdout",
     "output_type": "stream",
     "text": [
      "Fitting 6 folds for each of 60 candidates, totalling 360 fits\n"
     ]
    },
    {
     "name": "stdout",
     "output_type": "stream",
     "text": [
      "              precision    recall  f1-score   support\n",
      "\n",
      "        Lost       0.80      0.82      0.81       105\n",
      "         Tie       1.00      1.00      1.00        21\n",
      "         Win       0.81      0.78      0.79       101\n",
      "\n",
      "    accuracy                           0.82       227\n",
      "   macro avg       0.87      0.87      0.87       227\n",
      "weighted avg       0.82      0.82      0.82       227\n",
      "\n"
     ]
    }
   ],
   "source": [
    "params = {\n",
    "    \"n_estimators\": [50, 100, 200, 300, 400, 500],\n",
    "    \"criterion\": ['gini', 'entropy'],\n",
    "    \"max_depth\": [10, 20, 30, 40, 50],\n",
    "    \"random_state\": [100]\n",
    "}\n",
    "\n",
    "model = GridSearchCV(RandomForestClassifier(),param_grid=params, scoring = 'accuracy', cv=6, verbose=2, n_jobs= -1)\n",
    "model.fit(x_train, y_train)\n",
    "y_pred = model.predict(x_test)\n",
    "\n",
    "print(classification_report(y_test, y_pred))"
   ]
  },
  {
   "cell_type": "code",
   "execution_count": 15,
   "metadata": {},
   "outputs": [
    {
     "name": "stdout",
     "output_type": "stream",
     "text": [
      "{'criterion': 'entropy', 'max_depth': 30, 'n_estimators': 200, 'random_state': 100} 0.8123620309050773\n"
     ]
    }
   ],
   "source": [
    "print(model.best_params_, model.best_score_)"
   ]
  },
  {
   "cell_type": "code",
   "execution_count": 16,
   "metadata": {},
   "outputs": [
    {
     "name": "stdout",
     "output_type": "stream",
     "text": [
      "[[86  0 19]\n",
      " [ 0 21  0]\n",
      " [22  0 79]]\n"
     ]
    }
   ],
   "source": [
    "print(confusion_matrix(y_test, y_pred))"
   ]
  }
 ],
 "metadata": {
  "kernelspec": {
   "display_name": "sklearn-env",
   "language": "python",
   "name": "python3"
  },
  "language_info": {
   "codemirror_mode": {
    "name": "ipython",
    "version": 3
   },
   "file_extension": ".py",
   "mimetype": "text/x-python",
   "name": "python",
   "nbconvert_exporter": "python",
   "pygments_lexer": "ipython3",
   "version": "3.11.5"
  }
 },
 "nbformat": 4,
 "nbformat_minor": 2
}
