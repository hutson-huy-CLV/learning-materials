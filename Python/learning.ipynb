{
 "cells": [
  {
   "cell_type": "code",
   "execution_count": 3,
   "metadata": {},
   "outputs": [],
   "source": [
    "# excercise 3: Write a program that will give you the sum of 3 digits\n",
    "def sum_digit(n):\n",
    "    m = str(n)\n",
    "    tong = 0\n",
    "    for i in m:\n",
    "        tong = tong + int(i)\n",
    "    print(tong)"
   ]
  },
  {
   "cell_type": "code",
   "execution_count": 5,
   "metadata": {},
   "outputs": [
    {
     "name": "stdout",
     "output_type": "stream",
     "text": [
      "18\n"
     ]
    }
   ],
   "source": [
    "sum_digit(567)"
   ]
  },
  {
   "cell_type": "code",
   "execution_count": 6,
   "metadata": {},
   "outputs": [],
   "source": [
    "# excercise 4: Write a program that will reverse a 4 DIGIT number-Also it checks whether the reverse is true.\n",
    "def reverse_num(n):\n",
    "    m = str(n)[::-1]   # [start:stop:step]\n",
    "    print(m) \n"
   ]
  },
  {
   "cell_type": "code",
   "execution_count": 7,
   "metadata": {},
   "outputs": [
    {
     "name": "stdout",
     "output_type": "stream",
     "text": [
      "1321\n"
     ]
    }
   ],
   "source": [
    "reverse_num(1231)"
   ]
  },
  {
   "cell_type": "code",
   "execution_count": null,
   "metadata": {},
   "outputs": [],
   "source": [
    "# An Armstrong number is one whose sum of digits raised to the power three equals the\n",
    "# number itself. 371, for example, is an Armstrong number because + + I* *3\n",
    "# 371."
   ]
  },
  {
   "cell_type": "code",
   "execution_count": 35,
   "metadata": {},
   "outputs": [],
   "source": [
    "def Armstrong_num(n):\n",
    "    lst = []\n",
    "    for i in range(0, n+1):\n",
    "        m = str(i)\n",
    "        tong = 0\n",
    "        for j in m:\n",
    "            tong = int(j)**3 + tong\n",
    "        if tong == i:\n",
    "            lst.append(i)\n",
    "    return(lst)\n",
    "            "
   ]
  },
  {
   "cell_type": "code",
   "execution_count": 36,
   "metadata": {},
   "outputs": [
    {
     "name": "stdout",
     "output_type": "stream",
     "text": [
      "then amstrong number are:  [0, 1, 153, 370, 371, 407]\n"
     ]
    }
   ],
   "source": [
    "print(\"then amstrong number are: \", Armstrong_num(100000))"
   ]
  },
  {
   "cell_type": "code",
   "execution_count": 46,
   "metadata": {},
   "outputs": [
    {
     "name": "stdout",
     "output_type": "stream",
     "text": [
      "ten nguoi so  1  la dsf\n",
      "ten nguoi so  2  la sdf\n",
      "ten nguoi so  3  la sdfsd\n",
      "ten nguoi so  4  la e\n",
      "ten nguoi so  5  la tewr\n",
      "ten nguoi so  6  la fsd\n",
      "ten nguoi so  7  la fdv\n",
      "ten nguoi so  8  la cxvx\n",
      "ten nguoi so  9  la af\n",
      "ten nguoi so  10  la asf\n"
     ]
    }
   ],
   "source": [
    "# split the name\n",
    "ten = input('nhap vao cac ten ngan cach boi space')\n",
    "ten_lit = ten.split(\" \")\n",
    "order = 0\n",
    "for i in ten_lit:\n",
    "    order = order + 1\n",
    "    print('ten nguoi so ', order, \" la\", str(i))"
   ]
  },
  {
   "cell_type": "code",
   "execution_count": 47,
   "metadata": {},
   "outputs": [],
   "source": [
    "# given 2 list, select odd num from first list and even in second list\n",
    "def fiter_lst(n,m):\n",
    "    final_lst = []\n",
    "    for i in n:\n",
    "        if i%2 != 0:\n",
    "            final_lst.append(i)\n",
    "    for j in m:\n",
    "        if j%2 == 0:\n",
    "            final_lst.append(j)\n",
    "    return final_lst\n"
   ]
  },
  {
   "cell_type": "code",
   "execution_count": 48,
   "metadata": {},
   "outputs": [
    {
     "name": "stdout",
     "output_type": "stream",
     "text": [
      "[1, 3, 5, 2, 4, 6]\n"
     ]
    }
   ],
   "source": [
    "print(fiter_lst([1,2,3,4,5,6], [1,2,3,4,5,6]))"
   ]
  },
  {
   "cell_type": "code",
   "execution_count": 53,
   "metadata": {},
   "outputs": [],
   "source": [
    "def past_pop(n):\n",
    "    order = 11\n",
    "    m = n*1.1\n",
    "    for i in range(10, 0, -1):\n",
    "        order = order - 1\n",
    "        m = m/1.1\n",
    "        print('year', order, 'has population of', m)"
   ]
  },
  {
   "cell_type": "code",
   "execution_count": 54,
   "metadata": {},
   "outputs": [
    {
     "name": "stdout",
     "output_type": "stream",
     "text": [
      "year 10 has population of 10000.0\n",
      "year 9 has population of 9090.90909090909\n",
      "year 8 has population of 8264.462809917353\n",
      "year 7 has population of 7513.148009015775\n",
      "year 6 has population of 6830.134553650703\n",
      "year 5 has population of 6209.213230591548\n",
      "year 4 has population of 5644.739300537771\n",
      "year 3 has population of 5131.5811823070635\n",
      "year 2 has population of 4665.07380209733\n",
      "year 1 has population of 4240.976183724845\n"
     ]
    }
   ],
   "source": [
    "past_pop(10000)"
   ]
  },
  {
   "attachments": {},
   "cell_type": "markdown",
   "metadata": {},
   "source": [
    "**Exercise 24: Check Palindrome Number Write a program to check if the given number is a palindrome number.**\n",
    "\n",
    "*A palindrome number is a number that is same after reverse. For example 545, is the palindrome numbers*\n",
    "\n"
   ]
  },
  {
   "cell_type": "code",
   "execution_count": 6,
   "metadata": {},
   "outputs": [],
   "source": [
    "def check_pali_num(n):\n",
    "    m = str(n)[::-1]\n",
    "    print(f\"the reverse num is {m}\")\n",
    "    if int(m) == int(n):\n",
    "        print(f'{n} is a palindrome numbers')\n",
    "    else:\n",
    "        print(f'{n} is not a palindrome numbers')"
   ]
  },
  {
   "cell_type": "code",
   "execution_count": 8,
   "metadata": {},
   "outputs": [
    {
     "name": "stdout",
     "output_type": "stream",
     "text": [
      "the reverse num is 432\n",
      "234 is not a palindrome numbers\n"
     ]
    }
   ],
   "source": [
    "check_pali_num(234)"
   ]
  },
  {
   "cell_type": "code",
   "execution_count": 19,
   "metadata": {},
   "outputs": [
    {
     "name": "stdout",
     "output_type": "stream",
     "text": [
      "1 2 3 4 5 6 7 8 9 10 \n",
      "\n",
      "2 4 6 8 10 12 14 16 18 20 \n",
      "\n",
      "3 6 9 12 15 18 21 24 27 30 \n",
      "\n",
      "4 8 12 16 20 24 28 32 36 40 \n",
      "\n",
      "5 10 15 20 25 30 35 40 45 50 \n",
      "\n",
      "6 12 18 24 30 36 42 48 54 60 \n",
      "\n",
      "7 14 21 28 35 42 49 56 63 70 \n",
      "\n",
      "8 16 24 32 40 48 56 64 72 80 \n",
      "\n",
      "9 18 27 36 45 54 63 72 81 90 \n",
      "\n",
      "10 20 30 40 50 60 70 80 90 100 \n",
      "\n"
     ]
    }
   ],
   "source": [
    "# Exercise 27: Print multiplication table form 1 to 10\n",
    "for i in range(1,11):\n",
    "    for j in range(1,11):\n",
    "        print(i*j, end = \" \")\n",
    "    print(\"\\n\")"
   ]
  },
  {
   "attachments": {},
   "cell_type": "markdown",
   "metadata": {},
   "source": [
    "**print a triagle**"
   ]
  },
  {
   "cell_type": "code",
   "execution_count": 31,
   "metadata": {},
   "outputs": [
    {
     "name": "stdout",
     "output_type": "stream",
     "text": [
      "* \n",
      "* * \n",
      "* * * \n",
      "* * * * \n",
      "* * * * * \n"
     ]
    }
   ],
   "source": [
    "n = int(input('nhập vào độ lớn tam giác: '))\n",
    "for i in range (1,n+1):\n",
    "    for j in range(i, i+1):\n",
    "        print(\"* \"*j)"
   ]
  },
  {
   "attachments": {},
   "cell_type": "markdown",
   "metadata": {},
   "source": [
    "**excercise 32: User will provide 2 numbers you have to find the HCF of those 2 numbers**"
   ]
  },
  {
   "cell_type": "code",
   "execution_count": 37,
   "metadata": {},
   "outputs": [
    {
     "name": "stdout",
     "output_type": "stream",
     "text": [
      "các ước số thứ nhất là [1, 5]\n",
      "các ước số thứ hai là [1, 2, 4, 5, 10, 20]\n",
      "ước số chung lớn nhất là 5\n"
     ]
    }
   ],
   "source": [
    "x = int(input('nhập vào số đầu tiên: '))\n",
    "y = int(input('nhập vào số thứ hai: '))\n",
    "lst_x = []\n",
    "lst_y = []\n",
    "lst_c = []\n",
    "inex = -1\n",
    "for i in range(1,x+1):\n",
    "    if x%i == 0:\n",
    "        lst_x.append(i)\n",
    "for j in range(1,y+1):\n",
    "    if y%j == 0:\n",
    "        lst_y.append(j)\n",
    "for l in lst_x:\n",
    "    for m in lst_y:\n",
    "        if l == m:\n",
    "            lst_c.append(l)\n",
    "for k in lst_c:\n",
    "    inex += 1\n",
    "    if lst_c[inex] > lst_c[0]:\n",
    "        lst_c[0] = lst_c[inex]\n",
    "print(f\"các ước số thứ nhất là {lst_x}\")\n",
    "print(f\"các ước số thứ hai là {lst_y}\")\n",
    "print(f\"ước số chung lớn nhất là {lst_c[0]}\")"
   ]
  },
  {
   "attachments": {},
   "cell_type": "markdown",
   "metadata": {},
   "source": [
    "**Exercise 62: Find the sum of the series upto n terms Write a program to calculate the sum of series up to n term. For example, if n =5 the series will become 2 + 22 + 222 + 2222 + 22222 = 24690**"
   ]
  },
  {
   "cell_type": "code",
   "execution_count": 7,
   "metadata": {},
   "outputs": [],
   "source": [
    "def sum_n_term(n,x):\n",
    "    tong = 0\n",
    "    for i in range(1,n+1):\n",
    "        tong = tong + int(i*str(x))\n",
    "    print(tong)\n"
   ]
  },
  {
   "cell_type": "code",
   "execution_count": 8,
   "metadata": {},
   "outputs": [
    {
     "name": "stdout",
     "output_type": "stream",
     "text": [
      "24690\n"
     ]
    }
   ],
   "source": [
    "sum_n_term(5,2)"
   ]
  },
  {
   "attachments": {},
   "cell_type": "markdown",
   "metadata": {},
   "source": [
    "**Exercise 66: Print the following pattern Write a program to print the following start pattern using the for loop**"
   ]
  },
  {
   "cell_type": "code",
   "execution_count": 17,
   "metadata": {},
   "outputs": [
    {
     "name": "stdout",
     "output_type": "stream",
     "text": [
      "* \n",
      "* * \n",
      "* * * \n",
      "* * * * \n",
      "* * * * * \n",
      "* * * * \n",
      "* * * \n",
      "* * \n",
      "* \n"
     ]
    }
   ],
   "source": [
    "n = int(input('nhap vao do lon tam giac: '))\n",
    "for i in range(1, n+1):\n",
    "    print(i*\"* \")\n",
    "for j in range(n-1,0,-1):\n",
    "    print(j*\"* \")"
   ]
  },
  {
   "attachments": {},
   "cell_type": "markdown",
   "metadata": {},
   "source": [
    "**Excercise 67: Write a program that keeps on accepting a number from the user until the user enters Zero. Display the sum and average of all the numbers.**"
   ]
  },
  {
   "cell_type": "code",
   "execution_count": 22,
   "metadata": {},
   "outputs": [
    {
     "name": "stdout",
     "output_type": "stream",
     "text": [
      "tong cac so la 56\n",
      "trung binh cac so la 56.0\n"
     ]
    }
   ],
   "source": [
    "tong = 0\n",
    "count = 0\n",
    "m = int(input('nhap vao so m: '))\n",
    "while m != 0:\n",
    "    count = count + 1\n",
    "    tong = tong + m\n",
    "    m = int(input('nhap vao so m: '))\n",
    "print(f\"tong cac so la {tong}\")\n",
    "print(f\"trung binh cac so la {tong/count}\")\n",
    "\n"
   ]
  },
  {
   "attachments": {},
   "cell_type": "markdown",
   "metadata": {},
   "source": [
    "**excercise 68: Write a program to print the first 25 odd numbers**"
   ]
  },
  {
   "cell_type": "code",
   "execution_count": 26,
   "metadata": {},
   "outputs": [
    {
     "name": "stdout",
     "output_type": "stream",
     "text": [
      "[1, 3, 5, 7, 9, 11, 13, 15, 17, 19, 21, 23, 25, 27, 29, 31, 33, 35, 37, 39, 41, 43, 45, 47, 49, 51, 53, 55, 57, 59, 61, 63, 65, 67, 69, 71, 73, 75, 77, 79, 81, 83, 85, 87, 89, 91, 93, 95, 97, 99, 101, 103, 105, 107, 109, 111, 113, 115, 117, 119, 121, 123, 125, 127, 129, 131, 133, 135, 137, 139, 141, 143, 145, 147, 149, 151, 153, 155, 157, 159, 161, 163, 165, 167, 169, 171, 173, 175, 177, 179, 181, 183, 185, 187, 189, 191, 193, 195, 197, 199, 201, 203, 205, 207, 209, 211, 213, 215, 217, 219, 221, 223, 225, 227, 229, 231, 233, 235, 237, 239, 241, 243, 245, 247, 249, 251, 253, 255, 257, 259, 261, 263, 265, 267, 269, 271, 273, 275, 277, 279, 281, 283, 285, 287, 289, 291, 293, 295, 297, 299, 301, 303, 305, 307, 309, 311, 313, 315, 317, 319, 321, 323, 325, 327, 329, 331, 333, 335, 337, 339, 341, 343, 345, 347, 349, 351, 353, 355, 357, 359, 361, 363, 365, 367, 369, 371, 373, 375, 377, 379, 381, 383, 385, 387, 389, 391, 393, 395, 397, 399, 401, 403, 405, 407, 409, 411, 413, 415, 417, 419, 421, 423, 425, 427, 429, 431, 433, 435, 437, 439, 441, 443, 445, 447, 449, 451, 453, 455, 457, 459, 461, 463, 465, 467, 469, 471, 473, 475, 477, 479, 481, 483, 485, 487, 489, 491, 493, 495, 497, 499, 501, 503, 505, 507, 509, 511, 513, 515, 517, 519, 521, 523, 525, 527, 529, 531, 533, 535, 537, 539, 541, 543, 545, 547, 549, 551, 553, 555, 557, 559, 561, 563, 565, 567, 569, 571, 573, 575, 577, 579, 581, 583, 585, 587, 589, 591, 593, 595, 597, 599, 601, 603, 605, 607, 609, 611, 613, 615, 617, 619, 621, 623, 625, 627, 629, 631, 633, 635, 637, 639, 641, 643, 645, 647, 649, 651, 653, 655, 657, 659, 661, 663, 665, 667, 669, 671, 673, 675, 677, 679, 681, 683, 685, 687, 689, 691, 693, 695, 697, 699, 701, 703, 705, 707, 709, 711, 713, 715, 717, 719, 721, 723, 725, 727, 729, 731, 733, 735, 737, 739, 741, 743, 745, 747, 749, 751, 753, 755, 757, 759, 761, 763, 765, 767, 769, 771, 773, 775, 777, 779, 781, 783, 785, 787, 789, 791, 793, 795, 797, 799, 801, 803, 805, 807, 809, 811, 813, 815, 817, 819, 821, 823, 825, 827, 829, 831, 833, 835, 837, 839, 841, 843, 845, 847, 849, 851, 853, 855, 857, 859, 861, 863, 865, 867, 869, 871, 873, 875, 877, 879, 881, 883, 885, 887, 889, 891, 893, 895, 897, 899, 901, 903, 905, 907, 909, 911, 913, 915, 917, 919, 921, 923, 925, 927, 929, 931, 933, 935, 937, 939, 941, 943, 945, 947, 949, 951, 953, 955, 957, 959, 961, 963, 965, 967, 969, 971, 973, 975, 977, 979, 981, 983, 985, 987, 989, 991, 993, 995, 997, 999, 1001, 1003, 1005, 1007, 1009, 1011, 1013, 1015, 1017, 1019, 1021, 1023, 1025, 1027, 1029, 1031, 1033, 1035, 1037, 1039, 1041, 1043, 1045, 1047, 1049, 1051, 1053, 1055, 1057, 1059, 1061, 1063, 1065, 1067, 1069, 1071, 1073, 1075, 1077, 1079, 1081, 1083, 1085, 1087, 1089, 1091, 1093, 1095, 1097, 1099, 1101, 1103, 1105, 1107, 1109, 1111, 1113, 1115, 1117, 1119, 1121, 1123, 1125, 1127, 1129, 1131, 1133, 1135, 1137, 1139, 1141, 1143, 1145, 1147, 1149, 1151, 1153, 1155, 1157, 1159, 1161, 1163, 1165, 1167, 1169, 1171, 1173, 1175, 1177, 1179, 1181, 1183, 1185, 1187, 1189, 1191, 1193, 1195, 1197, 1199, 1201, 1203, 1205, 1207, 1209, 1211, 1213, 1215, 1217, 1219, 1221, 1223, 1225, 1227, 1229, 1231, 1233, 1235, 1237, 1239, 1241, 1243, 1245, 1247, 1249, 1251, 1253, 1255, 1257, 1259, 1261, 1263, 1265, 1267, 1269, 1271, 1273, 1275, 1277, 1279, 1281, 1283, 1285, 1287, 1289, 1291, 1293, 1295, 1297, 1299, 1301, 1303, 1305, 1307, 1309, 1311, 1313, 1315, 1317, 1319, 1321, 1323, 1325, 1327, 1329, 1331, 1333, 1335, 1337, 1339, 1341, 1343, 1345, 1347, 1349, 1351, 1353, 1355, 1357, 1359, 1361, 1363, 1365, 1367, 1369, 1371, 1373, 1375, 1377, 1379, 1381, 1383, 1385, 1387, 1389, 1391, 1393, 1395, 1397, 1399, 1401, 1403, 1405, 1407, 1409, 1411, 1413, 1415, 1417, 1419, 1421, 1423, 1425, 1427, 1429, 1431, 1433, 1435, 1437, 1439, 1441, 1443, 1445, 1447, 1449, 1451, 1453, 1455, 1457, 1459, 1461, 1463, 1465, 1467, 1469, 1471, 1473, 1475, 1477, 1479, 1481, 1483, 1485, 1487, 1489, 1491, 1493, 1495, 1497, 1499, 1501, 1503, 1505, 1507, 1509, 1511, 1513, 1515, 1517, 1519, 1521, 1523, 1525, 1527, 1529, 1531, 1533, 1535, 1537, 1539, 1541, 1543, 1545, 1547, 1549, 1551, 1553, 1555, 1557, 1559, 1561, 1563, 1565, 1567, 1569, 1571, 1573, 1575, 1577, 1579, 1581, 1583, 1585, 1587, 1589, 1591, 1593, 1595, 1597, 1599, 1601, 1603, 1605, 1607, 1609, 1611, 1613, 1615, 1617, 1619, 1621, 1623, 1625, 1627, 1629, 1631, 1633, 1635, 1637, 1639, 1641, 1643, 1645, 1647, 1649, 1651, 1653, 1655, 1657, 1659, 1661, 1663, 1665, 1667, 1669, 1671, 1673, 1675, 1677, 1679, 1681, 1683, 1685, 1687, 1689, 1691, 1693, 1695, 1697, 1699, 1701, 1703, 1705, 1707, 1709, 1711, 1713, 1715, 1717, 1719, 1721, 1723, 1725, 1727, 1729, 1731, 1733, 1735, 1737, 1739, 1741, 1743, 1745, 1747, 1749, 1751, 1753, 1755, 1757, 1759, 1761, 1763, 1765, 1767, 1769, 1771, 1773, 1775, 1777, 1779, 1781, 1783, 1785, 1787, 1789, 1791, 1793, 1795, 1797, 1799, 1801, 1803, 1805, 1807, 1809, 1811, 1813, 1815, 1817, 1819, 1821, 1823, 1825, 1827, 1829, 1831, 1833, 1835, 1837, 1839, 1841, 1843, 1845, 1847, 1849, 1851, 1853, 1855, 1857, 1859, 1861, 1863, 1865, 1867, 1869, 1871, 1873, 1875, 1877, 1879, 1881, 1883, 1885, 1887, 1889, 1891, 1893, 1895, 1897, 1899, 1901, 1903, 1905, 1907, 1909, 1911, 1913, 1915, 1917, 1919, 1921, 1923, 1925, 1927, 1929, 1931, 1933, 1935, 1937, 1939, 1941, 1943, 1945, 1947, 1949, 1951, 1953, 1955, 1957, 1959, 1961, 1963, 1965, 1967, 1969, 1971, 1973, 1975, 1977, 1979, 1981, 1983, 1985, 1987, 1989, 1991, 1993, 1995, 1997, 1999]\n"
     ]
    }
   ],
   "source": [
    "n = int(input('nhap vao so luong so le ban muon: '))\n",
    "lst = []\n",
    "tong = 0\n",
    "while len(lst) < n:\n",
    "    tong = tong + 1\n",
    "    if tong % 2 !=0:\n",
    "        lst.append(tong)\n",
    "print(lst)\n",
    "    "
   ]
  },
  {
   "attachments": {},
   "cell_type": "markdown",
   "metadata": {},
   "source": [
    "**Exercise 69: Write a function called exponent(base, exp) that returns an int value of base raises to the power of exp. Note here exp is a non-negative integer, and the base is an integer.**"
   ]
  },
  {
   "cell_type": "code",
   "execution_count": 1,
   "metadata": {},
   "outputs": [],
   "source": [
    "def exponent(base, exp):\n",
    "    tong = 0\n",
    "    result = 1\n",
    "    while tong < (exp):\n",
    "        tong = tong + 1\n",
    "        result = result*base\n",
    "    print(result)"
   ]
  },
  {
   "cell_type": "code",
   "execution_count": 4,
   "metadata": {},
   "outputs": [
    {
     "name": "stdout",
     "output_type": "stream",
     "text": [
      "16\n"
     ]
    }
   ],
   "source": [
    "exponent(2, 4)"
   ]
  },
  {
   "attachments": {},
   "cell_type": "markdown",
   "metadata": {},
   "source": [
    "**Excercise 82: Print the first 20 numbers of a Fibonacci series**"
   ]
  },
  {
   "cell_type": "code",
   "execution_count": 10,
   "metadata": {},
   "outputs": [],
   "source": [
    "def finbonaci(n):\n",
    "    lst = [0,1]\n",
    "    tong = 0\n",
    "    while len(lst) < n:\n",
    "        tong +=1\n",
    "        if tong == lst[-1] + lst[-2]:\n",
    "            lst.append(tong)\n",
    "    print(lst)\n"
   ]
  },
  {
   "cell_type": "code",
   "execution_count": 11,
   "metadata": {},
   "outputs": [
    {
     "name": "stdout",
     "output_type": "stream",
     "text": [
      "[0, 1, 1, 2, 3, 5, 8, 13, 21, 34, 55, 89]\n"
     ]
    }
   ],
   "source": [
    "finbonaci(12)"
   ]
  },
  {
   "attachments": {},
   "cell_type": "markdown",
   "metadata": {},
   "source": [
    "**Exercise 84: Print characters from a string that are present at an even index number Write a program to accept a string from the user and display characters that are present at an even index number.**\n",
    "\n",
    "For example, str = \"pynative\" so you should display ‘p’, ‘n’, ‘t’, ‘v’.\n"
   ]
  },
  {
   "cell_type": "code",
   "execution_count": 15,
   "metadata": {},
   "outputs": [
    {
     "name": "stdout",
     "output_type": "stream",
     "text": [
      "pynative\n",
      "['p', 'n', 't', 'v']\n"
     ]
    }
   ],
   "source": [
    "m = str(input('nhap vao cac ky tu: '))\n",
    "lst = []\n",
    "for i in range(0, int(len(m)),2):\n",
    "    lst.append(m[i])\n",
    "print(m)\n",
    "print(lst)"
   ]
  },
  {
   "attachments": {},
   "cell_type": "markdown",
   "metadata": {},
   "source": [
    "**Exercise 1B: Create a string made of the middle three characters**"
   ]
  },
  {
   "cell_type": "code",
   "execution_count": 17,
   "metadata": {},
   "outputs": [
    {
     "name": "stdout",
     "output_type": "stream",
     "text": [
      "con\n"
     ]
    }
   ],
   "source": [
    "m = str(input('nhap vao chu: '))\n",
    "middle = len(m)//2\n",
    "result = m[middle - 1] + m[middle] +m[middle + 1]\n",
    "print(result)"
   ]
  },
  {
   "attachments": {},
   "cell_type": "markdown",
   "metadata": {},
   "source": [
    "**Exercise 1B: Create a string made of the middle n characters**"
   ]
  },
  {
   "cell_type": "code",
   "execution_count": 38,
   "metadata": {},
   "outputs": [],
   "source": [
    "def laysogiua(m,n):\n",
    "    middle = len(m)//2\n",
    "    result = \"\"\n",
    "    for i in range(middle - n//2, middle):\n",
    "        result = result + m[i]\n",
    "    for j in range(middle, middle + n//2):\n",
    "        result = result + m[j]\n",
    "    print(result)"
   ]
  },
  {
   "cell_type": "code",
   "execution_count": 46,
   "metadata": {},
   "outputs": [
    {
     "name": "stdout",
     "output_type": "stream",
     "text": [
      "huytrangds\n"
     ]
    }
   ],
   "source": [
    "laysogiua('123123huytrangds123123',10)"
   ]
  },
  {
   "attachments": {},
   "cell_type": "markdown",
   "metadata": {},
   "source": [
    "**Excercise 88:Find the index position of a particular character in another string.**"
   ]
  },
  {
   "cell_type": "code",
   "execution_count": 47,
   "metadata": {},
   "outputs": [
    {
     "name": "stdout",
     "output_type": "stream",
     "text": [
      "2\n"
     ]
    }
   ],
   "source": [
    "m = str(input('input string: '))\n",
    "n = str(input('string to find: '))\n",
    "result = m.index(n)\n",
    "print(result)"
   ]
  },
  {
   "attachments": {},
   "cell_type": "markdown",
   "metadata": {},
   "source": [
    "**Exercise 92: Arrange string characters such that lowercase letters should come first**\n",
    "\n",
    "Given string contains a combination of the lower and upper case letters. Write a program to arrange the\n",
    "characters of a string so that all lowercase letters should come first.\n"
   ]
  },
  {
   "cell_type": "code",
   "execution_count": 70,
   "metadata": {},
   "outputs": [],
   "source": [
    "def arrange_str(n):\n",
    "    lst_lower = []\n",
    "    lst_upper = []\n",
    "    for i in n:\n",
    "        if i.islower():\n",
    "            lst_lower.append(i)\n",
    "        else:\n",
    "            lst_upper.append(i)\n",
    "    final = lst_lower + lst_upper\n",
    "    print(''.join(final))"
   ]
  },
  {
   "cell_type": "code",
   "execution_count": 71,
   "metadata": {},
   "outputs": [
    {
     "name": "stdout",
     "output_type": "stream",
     "text": [
      "jfahajHUYUJHN\n"
     ]
    }
   ],
   "source": [
    "arrange_str('HUYjfahaUJHNj')\n"
   ]
  },
  {
   "attachments": {},
   "cell_type": "markdown",
   "metadata": {},
   "source": [
    "**Exercise 96: Find all occurrences of a substring in a given string by ignoring the case Write a program to find\n",
    "all occurrences of “USA” in a given string ignoring the case.**\n",
    "\n",
    "str1 = \"Welcome to USA. usa awesome, isn't it?\"\n",
    "expected ans --> USA:-->2**"
   ]
  },
  {
   "cell_type": "code",
   "execution_count": 78,
   "metadata": {},
   "outputs": [],
   "source": [
    "def countstr(m,n):\n",
    "    m_lower = m.lower()\n",
    "    n_lower = n.lower()\n",
    "    print(m_lower.count(n_lower))"
   ]
  },
  {
   "cell_type": "code",
   "execution_count": 80,
   "metadata": {},
   "outputs": [
    {
     "name": "stdout",
     "output_type": "stream",
     "text": [
      "2\n"
     ]
    }
   ],
   "source": [
    "countstr(\"Welcome to USA. usa awesome, isn't it?\", \"USA\")"
   ]
  },
  {
   "attachments": {},
   "cell_type": "markdown",
   "metadata": {},
   "source": [
    "**Excercise 97 Write a python program to convert a string to title case without using the title()**"
   ]
  },
  {
   "cell_type": "code",
   "execution_count": 97,
   "metadata": {},
   "outputs": [
    {
     "name": "stdout",
     "output_type": "stream",
     "text": [
      "Hom Nay La Mot Ngay Dep Troi\n"
     ]
    }
   ],
   "source": [
    "m = str(input('nhap chu: '))\n",
    "result = \"\"\n",
    "if m[0] == \" \":\n",
    "    result+=m[0]\n",
    "elif m[0] != \" \":\n",
    "    result+=m[0].upper()\n",
    "for i in range(1, len(m)):\n",
    "    if m[i-1] == \" \" and m[i] != \" \":\n",
    "        result+=m[i].upper()\n",
    "    else:\n",
    "        result += m[i]\n",
    "print(result)\n"
   ]
  },
  {
   "cell_type": "code",
   "execution_count": 98,
   "metadata": {},
   "outputs": [
    {
     "name": "stdout",
     "output_type": "stream",
     "text": [
      "['hom', 'nay', 'la', 'mot', 'ngay', 'dep', 'troi']\n",
      "Hom Nay La Mot Ngay Dep Troi \n"
     ]
    }
   ],
   "source": [
    "a=input(\"enter the title: \")\n",
    "b=a.split()\n",
    "r=''\n",
    "print(b)\n",
    "for i in b:\n",
    " r=r+i.capitalize()+\" \"\n",
    " \n",
    "print(r)"
   ]
  },
  {
   "attachments": {},
   "cell_type": "markdown",
   "metadata": {},
   "source": [
    "**Exercise 76: Create an inner function to calculate the addition in the following way**\n",
    "\n",
    "Create an outer function that will accept two parameters, a and b\n",
    "\n",
    "Create an inner function inside an outer function that will calculate the addition of a and b\n",
    "\n",
    "At last, an outer function will add 5 into addition and return it"
   ]
  },
  {
   "cell_type": "code",
   "execution_count": 2,
   "metadata": {},
   "outputs": [],
   "source": [
    "def outerfunction(m,n):\n",
    "    def innerfunction(m,n):\n",
    "        return m+n\n",
    "    add = innerfunction(m,n) + 5\n",
    "    return add"
   ]
  },
  {
   "cell_type": "code",
   "execution_count": 3,
   "metadata": {},
   "outputs": [
    {
     "name": "stdout",
     "output_type": "stream",
     "text": [
      "16\n"
     ]
    }
   ],
   "source": [
    "print(outerfunction(6,5))"
   ]
  },
  {
   "attachments": {},
   "cell_type": "markdown",
   "metadata": {},
   "source": [
    "**Exercise 77: Create a recursive function**\n",
    "\n",
    "A Write a program to create a recursive function to calculate the sum of numbers from 0 to 10.\n",
    "\n",
    "A recursive function is a function that calls itself again and again.\n",
    "\n",
    "Expected Output:\n",
    "55"
   ]
  },
  {
   "cell_type": "code",
   "execution_count": 4,
   "metadata": {},
   "outputs": [
    {
     "name": "stdout",
     "output_type": "stream",
     "text": [
      "55\n"
     ]
    }
   ],
   "source": [
    "def recursive_sum(n):\n",
    "    if n == 0:\n",
    "        return 0\n",
    "    else:\n",
    "        return n + recursive_sum(n-1)\n",
    "\n",
    "result = recursive_sum(10)\n",
    "print(result)\n"
   ]
  },
  {
   "cell_type": "code",
   "execution_count": 5,
   "metadata": {},
   "outputs": [
    {
     "data": {
      "text/plain": [
       "55"
      ]
     },
     "execution_count": 5,
     "metadata": {},
     "output_type": "execute_result"
    }
   ],
   "source": [
    "recursive_sum(10)"
   ]
  },
  {
   "attachments": {},
   "cell_type": "markdown",
   "metadata": {},
   "source": [
    "**B) Write a program to create a recursive function to calculate the factorial of numbers from 0 to 10.**\n",
    "\n",
    "A recursive function is a function that calls itself again and again.\n",
    "\n",
    "Expected Output:\n",
    "120"
   ]
  },
  {
   "cell_type": "code",
   "execution_count": 11,
   "metadata": {},
   "outputs": [],
   "source": [
    "def fac_num(n):\n",
    "    if n == 1:\n",
    "        return 1\n",
    "    else:\n",
    "        return n*fac_num(n-1)"
   ]
  },
  {
   "cell_type": "code",
   "execution_count": 13,
   "metadata": {},
   "outputs": [
    {
     "name": "stdout",
     "output_type": "stream",
     "text": [
      "120\n"
     ]
    }
   ],
   "source": [
    "print(fac_num(5))"
   ]
  },
  {
   "attachments": {},
   "cell_type": "markdown",
   "metadata": {},
   "source": [
    "**Exercise 101: Split a string on hyphens**\n",
    "\n",
    "Write a program to split a given string on hyphens and display each substring.\n",
    "\n",
    "str1 = Emma-is-a-data-scientist\n",
    "\n",
    "Expected-->Displaying each substring\n",
    "\n",
    "Emma\n",
    "\n",
    "is\n",
    "\n",
    "a\n",
    "\n",
    "data\n",
    "\n",
    "scientist\n"
   ]
  },
  {
   "cell_type": "code",
   "execution_count": 17,
   "metadata": {},
   "outputs": [
    {
     "name": "stdout",
     "output_type": "stream",
     "text": [
      "Emma\n",
      "is\n",
      "a\n",
      "data\n",
      "scientist\n"
     ]
    }
   ],
   "source": [
    "m = str(input('nhap vao chuoi:'))\n",
    "n = m.split(\"-\")\n",
    "for i in range(0, len(n)):\n",
    "    print(n[i])"
   ]
  },
  {
   "attachments": {},
   "cell_type": "markdown",
   "metadata": {},
   "source": [
    "**Exercise 102: Remove empty strings from a list of strings**"
   ]
  },
  {
   "cell_type": "code",
   "execution_count": 23,
   "metadata": {},
   "outputs": [
    {
     "name": "stdout",
     "output_type": "stream",
     "text": [
      "['Emma', 'Jon', 'Kelly', 'Eric']\n"
     ]
    }
   ],
   "source": [
    "m = [\"Emma\", \"Jon\", \"\", \"Kelly\", None, \"Eric\", \"\"]\n",
    "result = []\n",
    "for i in m:\n",
    "    if i != \"\" and isinstance(i, str) :\n",
    "        result.append(i)\n",
    "print(result)"
   ]
  },
  {
   "attachments": {},
   "cell_type": "markdown",
   "metadata": {},
   "source": [
    "**Exercise 105: Find words with both alphabets and numbers**\n",
    "\n",
    "Write a program to find words with both alphabets and numbers from an input string"
   ]
  },
  {
   "cell_type": "code",
   "execution_count": 12,
   "metadata": {},
   "outputs": [],
   "source": [
    "def extract_word(m):\n",
    "    n = m.split(\" \")\n",
    "    result = []\n",
    "    for k in n:\n",
    "        def extract_word(k):\n",
    "            if not any(i.isalpha() for i in k):\n",
    "                return False\n",
    "            if not any(i.isdigit() for i in k):\n",
    "                return False\n",
    "            return True\n",
    "        if extract_word(k):\n",
    "            result.append(k)\n",
    "    return result"
   ]
  },
  {
   "cell_type": "code",
   "execution_count": 13,
   "metadata": {},
   "outputs": [
    {
     "name": "stdout",
     "output_type": "stream",
     "text": [
      "['Emma253', 'scientist50000', 'a4234']\n"
     ]
    }
   ],
   "source": [
    "print(extract_word(\"Emma253 is Data scientist50000 and AI Expert a4234\"))"
   ]
  },
  {
   "attachments": {},
   "cell_type": "markdown",
   "metadata": {},
   "source": [
    "**Exercise 106: Replace each special symbol with # in the following string**\n",
    "\n",
    "str1 = '/*Jon is @developer & musician!!'\n",
    "\n",
    "Expected-->##Jon is #developer # musician##"
   ]
  },
  {
   "cell_type": "code",
   "execution_count": 79,
   "metadata": {},
   "outputs": [],
   "source": [
    "def hide_special(m):\n",
    "    n = m.split(\" \")\n",
    "    result = []\n",
    "    for i in n:\n",
    "        k = []\n",
    "        for j in i:\n",
    "            if (j.isalpha() or j.isdigit()):\n",
    "                k.append(j)\n",
    "            else:\n",
    "                k.append('#')\n",
    "        result_2 = \"\".join(k)\n",
    "        result.append(result_2)\n",
    "    return result\n",
    "input_pdf_path = \"D:/Hutson/Learning/Python/HOMEWORK BUỔI 9.pdf\"\n",
    "output_pdf_path = \"D:/Hutson/Learning/Python/HOMEWORK BUỔI 9 test.pdf\"\n"
   ]
  },
  {
   "cell_type": "code",
   "execution_count": 45,
   "metadata": {},
   "outputs": [
    {
     "data": {
      "text/plain": [
       "'##Jon is #developer # musician##'"
      ]
     },
     "execution_count": 45,
     "metadata": {},
     "output_type": "execute_result"
    }
   ],
   "source": [
    "\" \".join(hide_special('/*Jon is @developer & musician!!'))"
   ]
  },
  {
   "cell_type": "code",
   "execution_count": 48,
   "metadata": {},
   "outputs": [
    {
     "name": "stdout",
     "output_type": "stream",
     "text": [
      "#Jon is #developer # musician#\n"
     ]
    }
   ],
   "source": [
    "sentence = \"/*Jon is @developer & musician!!\"\n",
    "import re\n",
    "clean_sentence=re.sub('[^A-Za-z0-9\\s]+',\"#\",sentence)\n",
    "print(clean_sentence)"
   ]
  },
  {
   "cell_type": "code",
   "execution_count": 66,
   "metadata": {},
   "outputs": [
    {
     "name": "stdout",
     "output_type": "stream",
     "text": [
      "[34, 54, 11, 67, 89, 43, 94]\n"
     ]
    }
   ],
   "source": [
    "sample_list = [34, 54, 67, 89, 11, 43, 94]\n",
    "index_4 = sample_list[4]\n",
    "sample_list.remove(index_4)  # Remove the element at index 4\n",
    "sample_list.insert(2,index_4)\n",
    "print(sample_list)"
   ]
  },
  {
   "attachments": {},
   "cell_type": "markdown",
   "metadata": {},
   "source": [
    "**Exercise 112: Count the occurrence of each element from a list**\n",
    "\n",
    "Write a program to iterate a given list and count the occurrence of each element and create a dictionary to\n",
    "show the count of each element.\n",
    "\n",
    "sample_list = [11, 45, 8, 11, 23, 45, 23, 45, 89]\n",
    "\n",
    "Expected Output:--> Printing count of each item {11: 2, 45: 3, 8: 1, 23: 2, 89: 1}\n"
   ]
  },
  {
   "cell_type": "code",
   "execution_count": 75,
   "metadata": {},
   "outputs": [
    {
     "name": "stdout",
     "output_type": "stream",
     "text": [
      "{11: 2, 45: 3, 8: 1, 23: 2, 89: 1}\n"
     ]
    }
   ],
   "source": [
    "list1 = [11, 45, 8, 11, 23, 45, 23, 45, 89]\n",
    "dict_lst = {}\n",
    "for i in list1:\n",
    "    if i in dict_lst:\n",
    "        dict_lst[i] +=1\n",
    "    else:\n",
    "        dict_lst[i] = 1\n",
    "print(dict_lst)"
   ]
  },
  {
   "attachments": {},
   "cell_type": "markdown",
   "metadata": {},
   "source": [
    "**Exercise 116: Iterate a given list and check if a given element exists as a key’s value in a dictionary. If not,\n",
    "delete it from the list**\n",
    "\n",
    "roll_number = [47, 64, 69, 37, 76, 83, 95, 97]\n",
    "\n",
    "sample_dict = {'Jhon':47, 'Emma':69, 'Kelly':76, 'Jason':97}\n",
    "\n",
    "Expected result:--> After removing unwanted elements from list [47, 69, 76, 97]\n"
   ]
  },
  {
   "cell_type": "code",
   "execution_count": 106,
   "metadata": {},
   "outputs": [
    {
     "name": "stdout",
     "output_type": "stream",
     "text": [
      "[69, 76, 97]\n"
     ]
    }
   ],
   "source": [
    "roll_number = [47, 64, 69, 37, 76, 83, 95, 97]\n",
    "\n",
    "sample_dict = {'Emma':69, 'Kelly':76, 'Jason':97, 'mic':6}\n",
    "\n",
    "result = []\n",
    "for i in roll_number:\n",
    "    if i in sample_dict.values():\n",
    "        result.append(i)\n",
    "print(result)"
   ]
  },
  {
   "attachments": {},
   "cell_type": "markdown",
   "metadata": {},
   "source": [
    "**Exercise 117: Get all values from the dictionary and add them to a list but don’t add duplicates**\n",
    "\n",
    "speed = {'jan': 47, 'feb': 52, 'march': 47, 'April': 44, 'May': 52, 'June': 53, 'july': 54, 'Aug': 44, 'Sept': 54}\n",
    "\n",
    "expected_output: [47, 52, 44, 53, 54]\n"
   ]
  },
  {
   "cell_type": "code",
   "execution_count": 110,
   "metadata": {},
   "outputs": [
    {
     "name": "stdout",
     "output_type": "stream",
     "text": [
      "[47, 52, 44, 53, 54]\n"
     ]
    }
   ],
   "source": [
    "speed = {'jan': 47, 'feb': 52, 'march': 47, 'April': 44, 'May': 52, 'June': 53, 'july': 54, 'Aug': 44, 'Sept': 54}\n",
    "result = []\n",
    "for i in speed.values():\n",
    "    if i not in result:\n",
    "        result.append(i)\n",
    "print(result)"
   ]
  },
  {
   "attachments": {},
   "cell_type": "markdown",
   "metadata": {},
   "source": [
    "**Exercise 118: Remove duplicates from a list and create a tuple and find the minimum and maximum number**\n",
    "\n",
    "sample_list = [87, 45, 41, 65, 94, 41, 99, 94]\n",
    "\n",
    "Expected-->\n",
    "\n",
    "unique items [87, 45, 41, 65, 99]\n",
    "\n",
    "tuple (87, 45, 41, 65, 99)\n",
    "\n",
    "min: 41\n",
    "\n",
    "max: 99"
   ]
  },
  {
   "cell_type": "code",
   "execution_count": 114,
   "metadata": {},
   "outputs": [
    {
     "name": "stdout",
     "output_type": "stream",
     "text": [
      "(87, 45, 41, 65, 94, 41, 99, 94)\n",
      "99\n",
      "41\n"
     ]
    }
   ],
   "source": [
    "sample_list = [87, 45, 41, 65, 94, 41, 99, 94]\n",
    "sample_tuple = tuple(sample_list)\n",
    "print(sample_tuple)\n",
    "print(max(sample_tuple))\n",
    "print(min(sample_tuple))"
   ]
  },
  {
   "attachments": {},
   "cell_type": "markdown",
   "metadata": {},
   "source": [
    "**Exercise 135: Convert two lists into a dictionary**\n",
    "\n",
    "Below are the two lists. Write a Python program to convert them into a dictionary in a way that item from list1\n",
    "is the key and item from list2 is the value\n",
    "\n",
    "keys = ['Ten', 'Twenty', 'Thirty']\n",
    "\n",
    "values = [10, 20, 30]\n",
    "\n",
    "Expected output:\n",
    "{'Ten': 10, 'Twenty': 20, 'Thirty': 30}"
   ]
  },
  {
   "cell_type": "code",
   "execution_count": 124,
   "metadata": {},
   "outputs": [
    {
     "name": "stdout",
     "output_type": "stream",
     "text": [
      "{10: 'Ten', 20: 'Twenty', 30: 'Thirty'}\n"
     ]
    }
   ],
   "source": [
    "keys = ['Ten', 'Twenty', 'Thirty']\n",
    "values = [10, 20, 30]\n",
    "my_dict=zip(values,keys)\n",
    "result=dict(my_dict)\n",
    "print(result)"
   ]
  },
  {
   "cell_type": "code",
   "execution_count": 136,
   "metadata": {},
   "outputs": [
    {
     "name": "stdout",
     "output_type": "stream",
     "text": [
      "None\n"
     ]
    }
   ],
   "source": [
    "set1 = {10, 20, 30, 40, 50}\n",
    "set2 = [30, 40, 50, 60, 70]\n",
    "set3=set1.update(set2)\n",
    "print(set3)"
   ]
  }
 ],
 "metadata": {
  "kernelspec": {
   "display_name": "Python 3",
   "language": "python",
   "name": "python3"
  },
  "language_info": {
   "codemirror_mode": {
    "name": "ipython",
    "version": 3
   },
   "file_extension": ".py",
   "mimetype": "text/x-python",
   "name": "python",
   "nbconvert_exporter": "python",
   "pygments_lexer": "ipython3",
   "version": "3.11.4"
  },
  "orig_nbformat": 4
 },
 "nbformat": 4,
 "nbformat_minor": 2
}
