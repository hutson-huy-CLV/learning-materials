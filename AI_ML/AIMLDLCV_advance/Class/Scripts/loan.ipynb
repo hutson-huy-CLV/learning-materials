{
 "cells": [
  {
   "cell_type": "code",
   "execution_count": 67,
   "metadata": {},
   "outputs": [],
   "source": [
    "import pandas as pd\n",
    "from sklearn.discriminant_analysis import StandardScaler\n",
    "from sklearn.impute import SimpleImputer\n",
    "from sklearn.pipeline import Pipeline\n",
    "from sklearn.preprocessing import OneHotEncoder\n",
    "\n",
    "from lazypredict.Supervised import LazyClassifier\n",
    "from sklearn.datasets import load_breast_cancer\n",
    "from sklearn.model_selection import train_test_split\n",
    "\n",
    "from imblearn.over_sampling import SMOTE\n",
    "\n",
    "smote = SMOTE(random_state=42)\n",
    "X_resampled, y_resampled = smote.fit_resample(X, y)  \n",
    "\n",
    "\n",
    "df = pd.read_csv('D:\\Hutson\\learning-materials\\AI_ML\\AIMLDLCV_advance\\Class\\Datasets\\Loan Data.csv',delimiter=';')"
   ]
  },
  {
   "cell_type": "code",
   "execution_count": 68,
   "metadata": {},
   "outputs": [
    {
     "data": {
      "text/html": [
       "<div>\n",
       "<style scoped>\n",
       "    .dataframe tbody tr th:only-of-type {\n",
       "        vertical-align: middle;\n",
       "    }\n",
       "\n",
       "    .dataframe tbody tr th {\n",
       "        vertical-align: top;\n",
       "    }\n",
       "\n",
       "    .dataframe thead th {\n",
       "        text-align: right;\n",
       "    }\n",
       "</style>\n",
       "<table border=\"1\" class=\"dataframe\">\n",
       "  <thead>\n",
       "    <tr style=\"text-align: right;\">\n",
       "      <th></th>\n",
       "      <th>YOB</th>\n",
       "      <th>NKID</th>\n",
       "      <th>DEP</th>\n",
       "      <th>PHON</th>\n",
       "      <th>SINC</th>\n",
       "      <th>AES</th>\n",
       "      <th>DAINC</th>\n",
       "      <th>RES</th>\n",
       "      <th>DHVAL</th>\n",
       "      <th>DMORT</th>\n",
       "      <th>DOUTM</th>\n",
       "      <th>DOUTL</th>\n",
       "      <th>DOUTHP</th>\n",
       "      <th>DOUTCC</th>\n",
       "      <th>BAD</th>\n",
       "    </tr>\n",
       "  </thead>\n",
       "  <tbody>\n",
       "    <tr>\n",
       "      <th>0</th>\n",
       "      <td>19.00</td>\n",
       "      <td>4.00</td>\n",
       "      <td>0.00</td>\n",
       "      <td>1</td>\n",
       "      <td>0.00</td>\n",
       "      <td>R</td>\n",
       "      <td>0.00</td>\n",
       "      <td>O</td>\n",
       "      <td>14464.00</td>\n",
       "      <td>4.00</td>\n",
       "      <td>0.00</td>\n",
       "      <td>0.00</td>\n",
       "      <td>0.00</td>\n",
       "      <td>0.00</td>\n",
       "      <td>0.00</td>\n",
       "    </tr>\n",
       "    <tr>\n",
       "      <th>1</th>\n",
       "      <td>41.00</td>\n",
       "      <td>2.00</td>\n",
       "      <td>0.00</td>\n",
       "      <td>1</td>\n",
       "      <td>0.00</td>\n",
       "      <td>P</td>\n",
       "      <td>36000.00</td>\n",
       "      <td>O</td>\n",
       "      <td>0.00</td>\n",
       "      <td>0.00</td>\n",
       "      <td>280.00</td>\n",
       "      <td>664.00</td>\n",
       "      <td>0.00</td>\n",
       "      <td>80.00</td>\n",
       "      <td>0.00</td>\n",
       "    </tr>\n",
       "    <tr>\n",
       "      <th>2</th>\n",
       "      <td>66.00</td>\n",
       "      <td>0.00</td>\n",
       "      <td>0.00</td>\n",
       "      <td>1</td>\n",
       "      <td>0.00</td>\n",
       "      <td>N</td>\n",
       "      <td>30000.00</td>\n",
       "      <td>N</td>\n",
       "      <td>0.00</td>\n",
       "      <td>0.00</td>\n",
       "      <td>0.00</td>\n",
       "      <td>0.00</td>\n",
       "      <td>0.00</td>\n",
       "      <td>0.00</td>\n",
       "      <td>0.00</td>\n",
       "    </tr>\n",
       "    <tr>\n",
       "      <th>3</th>\n",
       "      <td>51.00</td>\n",
       "      <td>2.00</td>\n",
       "      <td>0.00</td>\n",
       "      <td>1</td>\n",
       "      <td>0.00</td>\n",
       "      <td>P</td>\n",
       "      <td>464.00</td>\n",
       "      <td>O</td>\n",
       "      <td>24928.00</td>\n",
       "      <td>8464.00</td>\n",
       "      <td>584.00</td>\n",
       "      <td>320.00</td>\n",
       "      <td>0.00</td>\n",
       "      <td>60.00</td>\n",
       "      <td>0.00</td>\n",
       "    </tr>\n",
       "    <tr>\n",
       "      <th>4</th>\n",
       "      <td>65.00</td>\n",
       "      <td>0.00</td>\n",
       "      <td>0.00</td>\n",
       "      <td>1</td>\n",
       "      <td>0.00</td>\n",
       "      <td>P</td>\n",
       "      <td>15000.00</td>\n",
       "      <td>P</td>\n",
       "      <td>0.00</td>\n",
       "      <td>0.00</td>\n",
       "      <td>0.00</td>\n",
       "      <td>0.00</td>\n",
       "      <td>0.00</td>\n",
       "      <td>0.00</td>\n",
       "      <td>0.00</td>\n",
       "    </tr>\n",
       "  </tbody>\n",
       "</table>\n",
       "</div>"
      ],
      "text/plain": [
       "    YOB  NKID  DEP  PHON  SINC AES    DAINC RES    DHVAL   DMORT  DOUTM  \\\n",
       "0 19.00  4.00 0.00     1  0.00   R     0.00   O 14464.00    4.00   0.00   \n",
       "1 41.00  2.00 0.00     1  0.00   P 36000.00   O     0.00    0.00 280.00   \n",
       "2 66.00  0.00 0.00     1  0.00   N 30000.00   N     0.00    0.00   0.00   \n",
       "3 51.00  2.00 0.00     1  0.00   P   464.00   O 24928.00 8464.00 584.00   \n",
       "4 65.00  0.00 0.00     1  0.00   P 15000.00   P     0.00    0.00   0.00   \n",
       "\n",
       "   DOUTL  DOUTHP  DOUTCC  BAD  \n",
       "0   0.00    0.00    0.00 0.00  \n",
       "1 664.00    0.00   80.00 0.00  \n",
       "2   0.00    0.00    0.00 0.00  \n",
       "3 320.00    0.00   60.00 0.00  \n",
       "4   0.00    0.00    0.00 0.00  "
      ]
     },
     "execution_count": 68,
     "metadata": {},
     "output_type": "execute_result"
    }
   ],
   "source": [
    "df.head()"
   ]
  },
  {
   "cell_type": "code",
   "execution_count": 69,
   "metadata": {},
   "outputs": [
    {
     "name": "stdout",
     "output_type": "stream",
     "text": [
      "<class 'pandas.core.frame.DataFrame'>\n",
      "RangeIndex: 1225 entries, 0 to 1224\n",
      "Data columns (total 15 columns):\n",
      " #   Column  Non-Null Count  Dtype  \n",
      "---  ------  --------------  -----  \n",
      " 0   YOB     1225 non-null   float64\n",
      " 1   NKID    1225 non-null   float64\n",
      " 2   DEP     1225 non-null   float64\n",
      " 3   PHON    1225 non-null   int64  \n",
      " 4   SINC    1225 non-null   float64\n",
      " 5   AES     1225 non-null   object \n",
      " 6   DAINC   1225 non-null   float64\n",
      " 7   RES     1225 non-null   object \n",
      " 8   DHVAL   1225 non-null   float64\n",
      " 9   DMORT   1225 non-null   float64\n",
      " 10  DOUTM   1225 non-null   float64\n",
      " 11  DOUTL   1225 non-null   float64\n",
      " 12  DOUTHP  1225 non-null   float64\n",
      " 13  DOUTCC  1225 non-null   float64\n",
      " 14  BAD     1225 non-null   float64\n",
      "dtypes: float64(12), int64(1), object(2)\n",
      "memory usage: 143.7+ KB\n"
     ]
    }
   ],
   "source": [
    "df.info()"
   ]
  },
  {
   "cell_type": "code",
   "execution_count": 70,
   "metadata": {},
   "outputs": [],
   "source": [
    "target = 'BAD'\n",
    "\n",
    "x = df.drop(target, axis=1)\n",
    "y = df[target]"
   ]
  },
  {
   "cell_type": "code",
   "execution_count": 71,
   "metadata": {},
   "outputs": [],
   "source": [
    "num_transformer = Pipeline(steps=[\n",
    "    ('imputer', SimpleImputer(strategy='median')),\n",
    "    ('scaler', StandardScaler()),\n",
    "])"
   ]
  },
  {
   "cell_type": "code",
   "execution_count": 72,
   "metadata": {},
   "outputs": [],
   "source": [
    "nom_transformer = Pipeline(steps=[\n",
    "    ('imputer', SimpleImputer(strategy='most_frequent')),\n",
    "    ('scaler', OneHotEncoder())\n",
    "])"
   ]
  },
  {
   "cell_type": "code",
   "execution_count": 73,
   "metadata": {},
   "outputs": [
    {
     "data": {
      "text/plain": [
       "['YOB',\n",
       " 'NKID',\n",
       " 'DEP',\n",
       " 'PHON',\n",
       " 'SINC',\n",
       " 'DAINC',\n",
       " 'DHVAL',\n",
       " 'DMORT',\n",
       " 'DOUTM',\n",
       " 'DOUTL',\n",
       " 'DOUTHP',\n",
       " 'DOUTCC',\n",
       " 'BAD']"
      ]
     },
     "execution_count": 73,
     "metadata": {},
     "output_type": "execute_result"
    }
   ],
   "source": [
    "df.select_dtypes(include=['int64','float64']).columns.tolist()"
   ]
  },
  {
   "cell_type": "code",
   "execution_count": 74,
   "metadata": {},
   "outputs": [],
   "source": [
    "from sklearn.compose import ColumnTransformer\n",
    "\n",
    "\n",
    "preprocessor = ColumnTransformer(transformers=[\n",
    "    (\"num_features\", num_transformer, ['YOB',\n",
    " 'NKID',\n",
    " 'DEP',\n",
    " 'PHON',\n",
    " 'SINC',\n",
    " 'DAINC',\n",
    " 'DHVAL',\n",
    " 'DMORT',\n",
    " 'DOUTM',\n",
    " 'DOUTL',\n",
    " 'DOUTHP',\n",
    " 'DOUTCC'] ),\n",
    "    (\"nom_features\", nom_transformer,df.select_dtypes(include=['object']).columns.tolist())\n",
    "    ]\n",
    "    )"
   ]
  },
  {
   "cell_type": "code",
   "execution_count": 75,
   "metadata": {},
   "outputs": [],
   "source": [
    "x_train, x_test, y_train, y_test = train_test_split(x, y, test_size=0.2, random_state=42)"
   ]
  },
  {
   "cell_type": "code",
   "execution_count": 76,
   "metadata": {},
   "outputs": [],
   "source": [
    "# clf = LazyClassifier(verbose=0,ignore_warnings=True, custom_metric=None)\n",
    "# models,predictions = clf.fit(x_train, x_test, y_train, y_test)\n",
    "# models"
   ]
  },
  {
   "cell_type": "code",
   "execution_count": 77,
   "metadata": {},
   "outputs": [],
   "source": [
    "from sklearn.ensemble import RandomForestClassifier\n",
    "\n",
    "\n",
    "reg = Pipeline(steps=[('preprocessor', preprocessor),\n",
    "                      ('model', RandomForestClassifier())\n",
    "                    ])\n",
    "\n",
    "\n",
    "\n",
    "# processed_data = reg.fit_transform(x_train)\n",
    "# pd.DataFrame(processed_data)\n",
    "reg.fit(x_train, y_train)\n",
    "y_pred = reg.predict(x_test)\n",
    "# for i, j in zip(y_pred, y_test):\n",
    "#     print(\"Predicted: \", i, \"Actual: \", j)"
   ]
  },
  {
   "cell_type": "code",
   "execution_count": 78,
   "metadata": {},
   "outputs": [
    {
     "name": "stdout",
     "output_type": "stream",
     "text": [
      "              precision    recall  f1-score   support\n",
      "\n",
      "         0.0       0.76      0.92      0.83       181\n",
      "         1.0       0.46      0.19      0.27        64\n",
      "\n",
      "    accuracy                           0.73       245\n",
      "   macro avg       0.61      0.56      0.55       245\n",
      "weighted avg       0.68      0.73      0.69       245\n",
      "\n"
     ]
    }
   ],
   "source": [
    "from sklearn.metrics import classification_report\n",
    "\n",
    "\n",
    "print(classification_report(y_test, y_pred))"
   ]
  }
 ],
 "metadata": {
  "kernelspec": {
   "display_name": "sklearn-env",
   "language": "python",
   "name": "python3"
  },
  "language_info": {
   "codemirror_mode": {
    "name": "ipython",
    "version": 3
   },
   "file_extension": ".py",
   "mimetype": "text/x-python",
   "name": "python",
   "nbconvert_exporter": "python",
   "pygments_lexer": "ipython3",
   "version": "3.11.5"
  }
 },
 "nbformat": 4,
 "nbformat_minor": 2
}
