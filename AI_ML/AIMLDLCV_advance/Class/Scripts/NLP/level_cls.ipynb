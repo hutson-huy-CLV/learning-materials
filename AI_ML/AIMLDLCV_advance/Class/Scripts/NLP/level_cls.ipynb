{
 "cells": [
  {
   "cell_type": "code",
   "execution_count": 83,
   "metadata": {},
   "outputs": [],
   "source": [
    "import pandas as pd\n",
    "import pandas as pd\n",
    "# %pip uninstall numpy\n",
    "# %pip install --upgrade numpy==1.10.1\n",
    "# import numpy as np\n",
    "# from ydata_profiling import ProfileReport\n",
    "from sklearn.model_selection import train_test_split\n",
    "from sklearn.preprocessing import StandardScaler\n",
    "from sklearn.feature_extraction.text import TfidfVectorizer\n",
    "from sklearn.svm import SVC\n",
    "from sklearn.linear_model import LogisticRegression\n",
    "from sklearn.ensemble import RandomForestClassifier\n",
    "from sklearn.metrics import classification_report, confusion_matrix, accuracy_score\n",
    "from sklearn.preprocessing import OneHotEncoder\n",
    "from sklearn.model_selection import GridSearchCV\n",
    "from sklearn.compose import ColumnTransformer\n",
    "## immport desision trees\n",
    "from sklearn.tree import DecisionTreeClassifier\n",
    "from sklearn.pipeline import Pipeline\n",
    "from sklearn.feature_selection import SelectKBest,SelectPercentile, chi2\n",
    "\n",
    "\n",
    "from imblearn.over_sampling import SMOTE, SMOTEN, RandomOverSampler\n",
    "# import seaborn as sns\n",
    "# import matplotlib.pyplot as plt\n",
    "# from lazypredict.Supervised import LazyClassifier\n",
    "\n",
    "\n",
    "import re\n",
    "\n",
    "\n"
   ]
  },
  {
   "cell_type": "code",
   "execution_count": 84,
   "metadata": {},
   "outputs": [
    {
     "data": {
      "text/html": [
       "<div>\n",
       "<style scoped>\n",
       "    .dataframe tbody tr th:only-of-type {\n",
       "        vertical-align: middle;\n",
       "    }\n",
       "\n",
       "    .dataframe tbody tr th {\n",
       "        vertical-align: top;\n",
       "    }\n",
       "\n",
       "    .dataframe thead th {\n",
       "        text-align: right;\n",
       "    }\n",
       "</style>\n",
       "<table border=\"1\" class=\"dataframe\">\n",
       "  <thead>\n",
       "    <tr style=\"text-align: right;\">\n",
       "      <th></th>\n",
       "      <th>title</th>\n",
       "      <th>location</th>\n",
       "      <th>description</th>\n",
       "      <th>function</th>\n",
       "      <th>industry</th>\n",
       "      <th>career_level</th>\n",
       "    </tr>\n",
       "  </thead>\n",
       "  <tbody>\n",
       "    <tr>\n",
       "      <th>0</th>\n",
       "      <td>Technical Professional Lead - Process</td>\n",
       "      <td>Houston, TX</td>\n",
       "      <td>Responsible for the study, design, and specifi...</td>\n",
       "      <td>production_manufacturing</td>\n",
       "      <td>Machinery and Industrial Facilities Engineering</td>\n",
       "      <td>senior_specialist_or_project_manager</td>\n",
       "    </tr>\n",
       "    <tr>\n",
       "      <th>1</th>\n",
       "      <td>Cnslt - Systems Eng- Midrange 1</td>\n",
       "      <td>Seattle, WA</td>\n",
       "      <td>Participates in design, development and implem...</td>\n",
       "      <td>information_technology_telecommunications</td>\n",
       "      <td>Financial Services</td>\n",
       "      <td>senior_specialist_or_project_manager</td>\n",
       "    </tr>\n",
       "    <tr>\n",
       "      <th>2</th>\n",
       "      <td>SharePoint Developers and Solution Architects</td>\n",
       "      <td>Dallas, TX</td>\n",
       "      <td>We are currently in need of Developers who can...</td>\n",
       "      <td>consulting</td>\n",
       "      <td>IT Consulting</td>\n",
       "      <td>senior_specialist_or_project_manager</td>\n",
       "    </tr>\n",
       "    <tr>\n",
       "      <th>3</th>\n",
       "      <td>Business Information Services - Strategic Acco...</td>\n",
       "      <td>North Carolina</td>\n",
       "      <td>Experian is seeking an experienced Account Exe...</td>\n",
       "      <td>sales</td>\n",
       "      <td>Security, Risk, Restructuring Consulting</td>\n",
       "      <td>senior_specialist_or_project_manager</td>\n",
       "    </tr>\n",
       "    <tr>\n",
       "      <th>4</th>\n",
       "      <td>Strategic Development Director (procurement)</td>\n",
       "      <td>Austin, TX</td>\n",
       "      <td>Â Want to join a world-class global procuremen...</td>\n",
       "      <td>procurement_materials_logistics</td>\n",
       "      <td>Information Technology</td>\n",
       "      <td>bereichsleiter</td>\n",
       "    </tr>\n",
       "  </tbody>\n",
       "</table>\n",
       "</div>"
      ],
      "text/plain": [
       "                                               title        location  \\\n",
       "0              Technical Professional Lead - Process     Houston, TX   \n",
       "1                    Cnslt - Systems Eng- Midrange 1     Seattle, WA   \n",
       "2      SharePoint Developers and Solution Architects      Dallas, TX   \n",
       "3  Business Information Services - Strategic Acco...  North Carolina   \n",
       "4       Strategic Development Director (procurement)      Austin, TX   \n",
       "\n",
       "                                         description  \\\n",
       "0  Responsible for the study, design, and specifi...   \n",
       "1  Participates in design, development and implem...   \n",
       "2  We are currently in need of Developers who can...   \n",
       "3  Experian is seeking an experienced Account Exe...   \n",
       "4  Â Want to join a world-class global procuremen...   \n",
       "\n",
       "                                    function  \\\n",
       "0                   production_manufacturing   \n",
       "1  information_technology_telecommunications   \n",
       "2                                 consulting   \n",
       "3                                      sales   \n",
       "4            procurement_materials_logistics   \n",
       "\n",
       "                                          industry  \\\n",
       "0  Machinery and Industrial Facilities Engineering   \n",
       "1                               Financial Services   \n",
       "2                                    IT Consulting   \n",
       "3         Security, Risk, Restructuring Consulting   \n",
       "4                           Information Technology   \n",
       "\n",
       "                           career_level  \n",
       "0  senior_specialist_or_project_manager  \n",
       "1  senior_specialist_or_project_manager  \n",
       "2  senior_specialist_or_project_manager  \n",
       "3  senior_specialist_or_project_manager  \n",
       "4                        bereichsleiter  "
      ]
     },
     "execution_count": 84,
     "metadata": {},
     "output_type": "execute_result"
    }
   ],
   "source": [
    "data = pd.read_excel(r'Datasets\\final_project.ods', engine='odf', dtype='str')\n",
    "data.head()"
   ]
  },
  {
   "cell_type": "code",
   "execution_count": 85,
   "metadata": {},
   "outputs": [
    {
     "data": {
      "text/plain": [
       "career_level\n",
       "senior_specialist_or_project_manager      4338\n",
       "manager_team_leader                       2672\n",
       "bereichsleiter                             960\n",
       "director_business_unit_leader               70\n",
       "specialist                                  30\n",
       "managing_director_small_medium_company       4\n",
       "Name: count, dtype: int64"
      ]
     },
     "execution_count": 85,
     "metadata": {},
     "output_type": "execute_result"
    }
   ],
   "source": [
    "data['career_level'].value_counts()"
   ]
  },
  {
   "cell_type": "code",
   "execution_count": 86,
   "metadata": {},
   "outputs": [
    {
     "name": "stdout",
     "output_type": "stream",
     "text": [
      "<class 'pandas.core.frame.DataFrame'>\n",
      "RangeIndex: 8074 entries, 0 to 8073\n",
      "Data columns (total 6 columns):\n",
      " #   Column        Non-Null Count  Dtype \n",
      "---  ------        --------------  ----- \n",
      " 0   title         8074 non-null   object\n",
      " 1   location      8074 non-null   object\n",
      " 2   description   8073 non-null   object\n",
      " 3   function      8074 non-null   object\n",
      " 4   industry      8074 non-null   object\n",
      " 5   career_level  8074 non-null   object\n",
      "dtypes: object(6)\n",
      "memory usage: 378.6+ KB\n"
     ]
    }
   ],
   "source": [
    "data.info()"
   ]
  },
  {
   "cell_type": "code",
   "execution_count": 87,
   "metadata": {},
   "outputs": [],
   "source": [
    "data.dropna(how='any', inplace=True, axis=0)"
   ]
  },
  {
   "cell_type": "code",
   "execution_count": 88,
   "metadata": {},
   "outputs": [],
   "source": [
    "# df_test = pd.DataFrame(vertorizer.vocabulary_.items(), columns=['key', 'count']).sort_values('count', ascending=False).reset_index(drop=True)\n",
    "# df_test.head()"
   ]
  },
  {
   "cell_type": "code",
   "execution_count": 89,
   "metadata": {},
   "outputs": [],
   "source": [
    "def extract_state(x):\n",
    "    result = re.findall(r'\\,\\s[A-Z]{2}', x)\n",
    "    if len(result) > 0:\n",
    "        return result[0][2:]\n",
    "    else:\n",
    "        return x"
   ]
  },
  {
   "cell_type": "code",
   "execution_count": 90,
   "metadata": {},
   "outputs": [
    {
     "data": {
      "text/html": [
       "<div>\n",
       "<style scoped>\n",
       "    .dataframe tbody tr th:only-of-type {\n",
       "        vertical-align: middle;\n",
       "    }\n",
       "\n",
       "    .dataframe tbody tr th {\n",
       "        vertical-align: top;\n",
       "    }\n",
       "\n",
       "    .dataframe thead th {\n",
       "        text-align: right;\n",
       "    }\n",
       "</style>\n",
       "<table border=\"1\" class=\"dataframe\">\n",
       "  <thead>\n",
       "    <tr style=\"text-align: right;\">\n",
       "      <th></th>\n",
       "      <th>title</th>\n",
       "      <th>description</th>\n",
       "      <th>function</th>\n",
       "      <th>industry</th>\n",
       "      <th>career_level</th>\n",
       "      <th>location_state</th>\n",
       "    </tr>\n",
       "  </thead>\n",
       "  <tbody>\n",
       "    <tr>\n",
       "      <th>0</th>\n",
       "      <td>Technical Professional Lead - Process</td>\n",
       "      <td>Responsible for the study, design, and specifi...</td>\n",
       "      <td>production_manufacturing</td>\n",
       "      <td>Machinery and Industrial Facilities Engineering</td>\n",
       "      <td>senior_specialist_or_project_manager</td>\n",
       "      <td>TX</td>\n",
       "    </tr>\n",
       "    <tr>\n",
       "      <th>1</th>\n",
       "      <td>Cnslt - Systems Eng- Midrange 1</td>\n",
       "      <td>Participates in design, development and implem...</td>\n",
       "      <td>information_technology_telecommunications</td>\n",
       "      <td>Financial Services</td>\n",
       "      <td>senior_specialist_or_project_manager</td>\n",
       "      <td>WA</td>\n",
       "    </tr>\n",
       "    <tr>\n",
       "      <th>2</th>\n",
       "      <td>SharePoint Developers and Solution Architects</td>\n",
       "      <td>We are currently in need of Developers who can...</td>\n",
       "      <td>consulting</td>\n",
       "      <td>IT Consulting</td>\n",
       "      <td>senior_specialist_or_project_manager</td>\n",
       "      <td>TX</td>\n",
       "    </tr>\n",
       "    <tr>\n",
       "      <th>3</th>\n",
       "      <td>Business Information Services - Strategic Acco...</td>\n",
       "      <td>Experian is seeking an experienced Account Exe...</td>\n",
       "      <td>sales</td>\n",
       "      <td>Security, Risk, Restructuring Consulting</td>\n",
       "      <td>senior_specialist_or_project_manager</td>\n",
       "      <td>North Carolina</td>\n",
       "    </tr>\n",
       "    <tr>\n",
       "      <th>4</th>\n",
       "      <td>Strategic Development Director (procurement)</td>\n",
       "      <td>Â Want to join a world-class global procuremen...</td>\n",
       "      <td>procurement_materials_logistics</td>\n",
       "      <td>Information Technology</td>\n",
       "      <td>bereichsleiter</td>\n",
       "      <td>TX</td>\n",
       "    </tr>\n",
       "  </tbody>\n",
       "</table>\n",
       "</div>"
      ],
      "text/plain": [
       "                                               title  \\\n",
       "0              Technical Professional Lead - Process   \n",
       "1                    Cnslt - Systems Eng- Midrange 1   \n",
       "2      SharePoint Developers and Solution Architects   \n",
       "3  Business Information Services - Strategic Acco...   \n",
       "4       Strategic Development Director (procurement)   \n",
       "\n",
       "                                         description  \\\n",
       "0  Responsible for the study, design, and specifi...   \n",
       "1  Participates in design, development and implem...   \n",
       "2  We are currently in need of Developers who can...   \n",
       "3  Experian is seeking an experienced Account Exe...   \n",
       "4  Â Want to join a world-class global procuremen...   \n",
       "\n",
       "                                    function  \\\n",
       "0                   production_manufacturing   \n",
       "1  information_technology_telecommunications   \n",
       "2                                 consulting   \n",
       "3                                      sales   \n",
       "4            procurement_materials_logistics   \n",
       "\n",
       "                                          industry  \\\n",
       "0  Machinery and Industrial Facilities Engineering   \n",
       "1                               Financial Services   \n",
       "2                                    IT Consulting   \n",
       "3         Security, Risk, Restructuring Consulting   \n",
       "4                           Information Technology   \n",
       "\n",
       "                           career_level  location_state  \n",
       "0  senior_specialist_or_project_manager              TX  \n",
       "1  senior_specialist_or_project_manager              WA  \n",
       "2  senior_specialist_or_project_manager              TX  \n",
       "3  senior_specialist_or_project_manager  North Carolina  \n",
       "4                        bereichsleiter              TX  "
      ]
     },
     "execution_count": 90,
     "metadata": {},
     "output_type": "execute_result"
    }
   ],
   "source": [
    "data['location_state'] = data['location'].apply(extract_state)\n",
    "data.drop('location', axis=1, inplace=True)\n",
    "data.head()"
   ]
  },
  {
   "cell_type": "code",
   "execution_count": 91,
   "metadata": {},
   "outputs": [],
   "source": [
    "target = 'career_level'\n",
    "x = data.drop(target, axis=1)\n",
    "y = data[target]\n",
    "x_train, x_test, y_train, y_test = train_test_split(x, y, test_size=0.2, random_state=42)"
   ]
  },
  {
   "cell_type": "code",
   "execution_count": 92,
   "metadata": {},
   "outputs": [
    {
     "name": "stdout",
     "output_type": "stream",
     "text": [
      "(6458, 5) (1615, 5) (6458,) (1615,)\n"
     ]
    }
   ],
   "source": [
    "print(x_train.shape, x_test.shape, y_train.shape, y_test.shape)"
   ]
  },
  {
   "cell_type": "code",
   "execution_count": 93,
   "metadata": {},
   "outputs": [
    {
     "data": {
      "text/plain": [
       "Index(['title', 'description', 'function', 'industry', 'location_state'], dtype='object')"
      ]
     },
     "execution_count": 93,
     "metadata": {},
     "output_type": "execute_result"
    }
   ],
   "source": [
    "x_train.columns"
   ]
  },
  {
   "cell_type": "code",
   "execution_count": 94,
   "metadata": {},
   "outputs": [
    {
     "name": "stdout",
     "output_type": "stream",
     "text": [
      "career_level\n",
      "senior_specialist_or_project_manager      3448\n",
      "manager_team_leader                       2154\n",
      "bereichsleiter                             775\n",
      "director_business_unit_leader               54\n",
      "specialist                                  24\n",
      "managing_director_small_medium_company       3\n",
      "Name: count, dtype: int64\n",
      "_________\n",
      "career_level\n",
      "senior_specialist_or_project_manager      3448\n",
      "manager_team_leader                       2154\n",
      "bereichsleiter                            1000\n",
      "director_business_unit_leader              500\n",
      "managing_director_small_medium_company     500\n",
      "specialist                                 500\n",
      "Name: count, dtype: int64\n"
     ]
    }
   ],
   "source": [
    "sm = SMOTEN(random_state=42,k_neighbors=2, sampling_strategy= {\n",
    "    \"managing_director_small_medium_company\": 500,\n",
    "    \"specialist\": 500,\n",
    "    \"director_business_unit_leader\": 500,\n",
    "    \"bereichsleiter\": 1000\n",
    "})\n",
    "print(y_train.value_counts())\n",
    "print(\"_________\")\n",
    "x_train, y_train = sm.fit_resample(x_train, y_train)\n",
    "print(y_train.value_counts())"
   ]
  },
  {
   "cell_type": "code",
   "execution_count": 95,
   "metadata": {},
   "outputs": [],
   "source": [
    "preprocessor = ColumnTransformer(\n",
    "    transformers=[\n",
    "        ('title', TfidfVectorizer(), 'title'),\n",
    "        ('description', TfidfVectorizer(stop_words='english',min_df=0.01, max_df=0.95, ngram_range=(1,2)), 'description'),\n",
    "        ('function', OneHotEncoder(handle_unknown='ignore'),['function']),\n",
    "        ('industry', OneHotEncoder(handle_unknown='ignore'),['industry']),\n",
    "        ('location_state', OneHotEncoder(handle_unknown='ignore'),['location_state'])\n",
    "    ]\n",
    ")"
   ]
  },
  {
   "cell_type": "code",
   "execution_count": 96,
   "metadata": {},
   "outputs": [],
   "source": [
    "# processed_data = preprocessor.fit_transform(x_train)\n",
    "# processed_data.shape"
   ]
  },
  {
   "cell_type": "code",
   "execution_count": 97,
   "metadata": {},
   "outputs": [],
   "source": [
    "# x_train = preprocessor.fit_transform(x_train)\n",
    "# x_test = preprocessor.transform(x_test)\n",
    "# x_train.shape, x_test.shape"
   ]
  },
  {
   "cell_type": "code",
   "execution_count": 98,
   "metadata": {},
   "outputs": [],
   "source": [
    "# cls = Pipeline([\n",
    "#     ('preprocessor', preprocessor),\n",
    "#     ('classifier', DecisionTreeClassifier())\n",
    "# ])\n",
    "\n",
    "# cls.fit(x_train, y_train)\n",
    "# y_pred = cls.predict(x_test)\n",
    "# print(classification_report(y_test, y_pred))\n",
    "# ### dont use min max df accuracy: 0.68      \n",
    "# ### use min max df accuracy: 0.69            "
   ]
  },
  {
   "cell_type": "code",
   "execution_count": 99,
   "metadata": {},
   "outputs": [],
   "source": [
    "# model = SVC()\n",
    "# model.fit(x_train, y_train)\n",
    "# y_pred = model.predict(x_test)\n",
    "# accuracy_score(y_test, y_pred)\n",
    "# 0.7690402476780186\n",
    "\n",
    "# cls = Pipeline([\n",
    "#     ('preprocessor', preprocessor),\n",
    "#     ('classifier', SVC())\n",
    "# ])\n",
    "\n",
    "# cls.fit(x_train, y_train)\n",
    "# y_pred = cls.predict(x_test)\n",
    "# print(classification_report(y_test, y_pred))\n",
    "# # 0.77 , 2 min runs"
   ]
  },
  {
   "cell_type": "code",
   "execution_count": 100,
   "metadata": {},
   "outputs": [
    {
     "name": "stdout",
     "output_type": "stream",
     "text": [
      "                                        precision    recall  f1-score   support\n",
      "\n",
      "                        bereichsleiter       0.37      0.38      0.38       185\n",
      "         director_business_unit_leader       0.32      0.38      0.34        16\n",
      "                   manager_team_leader       0.57      0.58      0.57       518\n",
      "managing_director_small_medium_company       0.50      1.00      0.67         1\n",
      "  senior_specialist_or_project_manager       0.81      0.80      0.81       889\n",
      "                            specialist       0.00      0.00      0.00         6\n",
      "\n",
      "                              accuracy                           0.67      1615\n",
      "                             macro avg       0.43      0.52      0.46      1615\n",
      "                          weighted avg       0.68      0.67      0.67      1615\n",
      "\n"
     ]
    }
   ],
   "source": [
    "# model = LogisticRegression()\n",
    "# model.fit(x_train, y_train)\n",
    "# y_pred = model.predict(x_test)\n",
    "# accuracy_score(y_test, y_pred)\n",
    "# # 0.7721362229102167\n",
    "\n",
    "cls = Pipeline([\n",
    "    ('preprocessor', preprocessor),\n",
    "    (\"feature_selection\", SelectPercentile(chi2, percentile=10)), \n",
    "    ('classifier', DecisionTreeClassifier())\n",
    "])\n",
    "\n",
    "cls.fit(x_train, y_train)\n",
    "y_pred = cls.predict(x_test)\n",
    "print(classification_report(y_test, y_pred))\n",
    "\n",
    "## 0.76, run time: 5 sec"
   ]
  },
  {
   "cell_type": "code",
   "execution_count": 101,
   "metadata": {},
   "outputs": [],
   "source": [
    "# clf = LazyClassifier(verbose=0,ignore_warnings=True, custom_metric=None)\n",
    "# models,predictions = clf.fit(x_train, x_test, y_train, y_test)\n",
    "# models"
   ]
  }
 ],
 "metadata": {
  "kernelspec": {
   "display_name": "sklearn-env",
   "language": "python",
   "name": "python3"
  },
  "language_info": {
   "codemirror_mode": {
    "name": "ipython",
    "version": 3
   },
   "file_extension": ".py",
   "mimetype": "text/x-python",
   "name": "python",
   "nbconvert_exporter": "python",
   "pygments_lexer": "ipython3",
   "version": "3.11.5"
  }
 },
 "nbformat": 4,
 "nbformat_minor": 2
}
